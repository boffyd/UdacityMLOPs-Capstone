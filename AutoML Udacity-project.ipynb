{
 "cells": [
  {
   "cell_type": "markdown",
   "metadata": {},
   "source": [
    "# Azure Machine Learning Engineer\n",
    "## Project 3 - Capstone AutoML\n",
    "\n",
    "## Create a workspace\n",
    "In this step we are making an Azure Workspace and setting up an experiment"
   ]
  },
  {
   "cell_type": "code",
   "execution_count": 1,
   "metadata": {},
   "outputs": [
    {
     "name": "stdout",
     "output_type": "stream",
     "text": [
      "Workspace name: quick-starts-ws-146639\n",
      "Azure region: southcentralus\n",
      "Subscription id: d4ad7261-832d-46b2-b093-22156001df5b\n",
      "Resource group: aml-quickstarts-146639\n"
     ]
    }
   ],
   "source": [
    "# Create a new workspace and define an experiment.\n",
    "\n",
    "from azureml.core import Workspace, Experiment\n",
    "\n",
    "ws = Workspace.from_config()\n",
    "ws.get_details()\n",
    "\n",
    "# Choose a name for the experiment\n",
    "experiment_name = 'udacity-project-automl'\n",
    "experiment = Experiment(workspace=ws, name = experiment_name)\n",
    "\n",
    "print('Workspace name: ' + ws.name, \n",
    "      'Azure region: ' + ws.location, \n",
    "      'Subscription id: ' + ws.subscription_id, \n",
    "      'Resource group: ' + ws.resource_group, sep = '\\n')\n",
    "\n",
    "run = experiment.start_logging()"
   ]
  },
  {
   "cell_type": "code",
   "execution_count": 2,
   "metadata": {},
   "outputs": [
    {
     "name": "stdout",
     "output_type": "stream",
     "text": [
      "Creating.......\n",
      "SucceededProvisioning operation finished, operation \"Succeeded\"\n",
      "Succeeded\n",
      "AmlCompute wait for completion finished\n",
      "\n",
      "Minimum number of nodes requested have been provisioned\n"
     ]
    }
   ],
   "source": [
    "# Create a compute cluster to provision VM Resources.\n",
    "\n",
    "from azureml.core.compute import ComputeTarget, AmlCompute\n",
    "from azureml.core.compute_target import ComputeTargetException\n",
    "\n",
    "# TODO: Create compute cluster\n",
    "# Use vm_size = \"Standard_D2_V2\" in your provisioning configuration.\n",
    "# max_nodes should be no greater than 4.\n",
    "\n",
    "# Choose a name for the cluster\n",
    "cpu_cluster_name = 'cpu-cluster-01'\n",
    "\n",
    "#Verify that the culster does not exist already\n",
    "try:\n",
    "    compute_target = ComputeTarget(workspace = ws, name = cpu_cluster_name)\n",
    "    print('Found existing cluster, use it')\n",
    "except ComputeTargetException:\n",
    "    compute_config = AmlCompute.provisioning_configuration(vm_size = 'STANDARD_D2_V2', max_nodes = 4)\n",
    "    compute_target = ComputeTarget.create(ws, cpu_cluster_name, compute_config)\n",
    "\n",
    "compute_target.wait_for_completion(show_output = True)"
   ]
  },
  {
   "cell_type": "markdown",
   "metadata": {},
   "source": [
    "## Dataset\n",
    "\n",
    "The below information is for a locally (Azure) hosted dataset.  In this case a CSV was uploaded to the datablob store and to allow access you interogate it and go to the consume tab and copy the below code"
   ]
  },
  {
   "cell_type": "code",
   "execution_count": 23,
   "metadata": {
    "gather": {
     "logged": 1616826843997
    }
   },
   "outputs": [],
   "source": [
    "# azureml-core of version 1.0.72 or higher is required\n",
    "# azureml-dataprep[pandas] of version 1.1.34 or higher is required\n",
    "\n",
    "from azureml.core import Workspace, Dataset\n",
    "\n",
    "subscription_id = 'd4ad7261-832d-46b2-b093-22156001df5b'\n",
    "resource_group = 'aml-quickstarts-146639'\n",
    "workspace_name = 'quick-starts-ws-146639'\n",
    "\n",
    "workspace = Workspace(subscription_id, resource_group, workspace_name)\n",
    "\n",
    "dataset = Dataset.get_by_name(workspace, name='Adult')\n",
    "\n",
    "# create a pandas dataframe from the tabular dataset for use with sklearn functions.\n",
    "df = dataset.to_pandas_dataframe()"
   ]
  },
  {
   "cell_type": "code",
   "execution_count": 5,
   "metadata": {},
   "outputs": [],
   "source": [
    "from azureml.data.dataset_factory import TabularDatasetFactory\n",
    "from azureml.data.dataset_factory import DataType\n",
    "\n",
    "#file uploaded to github\n",
    "url = 'https://raw.githubusercontent.com/boffyd/UdacityMLOPs-Capstone/main/adult.csv'\n",
    "\n",
    "# pass url to Tabular dataset.  Note this is different to pandas dataframe, and gets converted to a dataframe in the function.\n",
    "\n",
    "dataset = TabularDatasetFactory.from_delimited_files(url,header = True)\n",
    "ds = dataset.to_pandas_dataframe().dropna()"
   ]
  },
  {
   "cell_type": "code",
   "execution_count": 6,
   "metadata": {},
   "outputs": [
    {
     "name": "stderr",
     "output_type": "stream",
     "text": [
      "Method filter: This is an experimental method, and may change at any time. Please see https://aka.ms/azuremlexperimental for more information.\n"
     ]
    }
   ],
   "source": [
    "tabular_dataset = dataset.filter(dataset['native-country'].contains('United-States'))"
   ]
  },
  {
   "cell_type": "code",
   "execution_count": 7,
   "metadata": {},
   "outputs": [
    {
     "data": {
      "text/html": [
       "<div>\n",
       "<style scoped>\n",
       "    .dataframe tbody tr th:only-of-type {\n",
       "        vertical-align: middle;\n",
       "    }\n",
       "\n",
       "    .dataframe tbody tr th {\n",
       "        vertical-align: top;\n",
       "    }\n",
       "\n",
       "    .dataframe thead th {\n",
       "        text-align: right;\n",
       "    }\n",
       "</style>\n",
       "<table border=\"1\" class=\"dataframe\">\n",
       "  <thead>\n",
       "    <tr style=\"text-align: right;\">\n",
       "      <th></th>\n",
       "      <th>Column1</th>\n",
       "      <th>age</th>\n",
       "      <th>workclass</th>\n",
       "      <th>fnlwgt</th>\n",
       "      <th>education</th>\n",
       "      <th>education-num.</th>\n",
       "      <th>marital-status</th>\n",
       "      <th>occupation</th>\n",
       "      <th>relationship</th>\n",
       "      <th>race</th>\n",
       "      <th>sex</th>\n",
       "      <th>capital-gain</th>\n",
       "      <th>capital-loss</th>\n",
       "      <th>hours-per-week</th>\n",
       "      <th>native-country</th>\n",
       "      <th>wage</th>\n",
       "    </tr>\n",
       "  </thead>\n",
       "  <tbody>\n",
       "    <tr>\n",
       "      <th>0</th>\n",
       "      <td>0</td>\n",
       "      <td>39</td>\n",
       "      <td>State-gov</td>\n",
       "      <td>77516</td>\n",
       "      <td>Bachelors</td>\n",
       "      <td>13</td>\n",
       "      <td>Never-married</td>\n",
       "      <td>Adm-clerical</td>\n",
       "      <td>Not-in-family</td>\n",
       "      <td>White</td>\n",
       "      <td>Male</td>\n",
       "      <td>2174</td>\n",
       "      <td>0</td>\n",
       "      <td>40</td>\n",
       "      <td>United-States</td>\n",
       "      <td>&lt;=50K</td>\n",
       "    </tr>\n",
       "    <tr>\n",
       "      <th>1</th>\n",
       "      <td>1</td>\n",
       "      <td>50</td>\n",
       "      <td>Self-emp-not-inc</td>\n",
       "      <td>83311</td>\n",
       "      <td>Bachelors</td>\n",
       "      <td>13</td>\n",
       "      <td>Married-civ-spouse</td>\n",
       "      <td>Exec-managerial</td>\n",
       "      <td>Husband</td>\n",
       "      <td>White</td>\n",
       "      <td>Male</td>\n",
       "      <td>0</td>\n",
       "      <td>0</td>\n",
       "      <td>13</td>\n",
       "      <td>United-States</td>\n",
       "      <td>&lt;=50K</td>\n",
       "    </tr>\n",
       "    <tr>\n",
       "      <th>2</th>\n",
       "      <td>2</td>\n",
       "      <td>38</td>\n",
       "      <td>Private</td>\n",
       "      <td>215646</td>\n",
       "      <td>HS-grad</td>\n",
       "      <td>9</td>\n",
       "      <td>Divorced</td>\n",
       "      <td>Handlers-cleaners</td>\n",
       "      <td>Not-in-family</td>\n",
       "      <td>White</td>\n",
       "      <td>Male</td>\n",
       "      <td>0</td>\n",
       "      <td>0</td>\n",
       "      <td>40</td>\n",
       "      <td>United-States</td>\n",
       "      <td>&lt;=50K</td>\n",
       "    </tr>\n",
       "  </tbody>\n",
       "</table>\n",
       "</div>"
      ],
      "text/plain": [
       "   Column1  age          workclass  fnlwgt   education  education-num.  \\\n",
       "0        0   39          State-gov   77516   Bachelors              13   \n",
       "1        1   50   Self-emp-not-inc   83311   Bachelors              13   \n",
       "2        2   38            Private  215646     HS-grad               9   \n",
       "\n",
       "        marital-status          occupation    relationship    race    sex  \\\n",
       "0        Never-married        Adm-clerical   Not-in-family   White   Male   \n",
       "1   Married-civ-spouse     Exec-managerial         Husband   White   Male   \n",
       "2             Divorced   Handlers-cleaners   Not-in-family   White   Male   \n",
       "\n",
       "   capital-gain  capital-loss  hours-per-week  native-country    wage  \n",
       "0          2174             0              40   United-States   <=50K  \n",
       "1             0             0              13   United-States   <=50K  \n",
       "2             0             0              40   United-States   <=50K  "
      ]
     },
     "execution_count": 7,
     "metadata": {},
     "output_type": "execute_result"
    }
   ],
   "source": [
    "tabular_dataset.take(3).to_pandas_dataframe()"
   ]
  },
  {
   "cell_type": "code",
   "execution_count": 8,
   "metadata": {},
   "outputs": [],
   "source": [
    "tabular_dataset = tabular_dataset.drop_columns(['Column1',\n",
    "                                                'fnlwgt',\n",
    "                                                'education-num',\n",
    "                                                'race'])"
   ]
  },
  {
   "cell_type": "code",
   "execution_count": 9,
   "metadata": {},
   "outputs": [
    {
     "data": {
      "text/html": [
       "<div>\n",
       "<style scoped>\n",
       "    .dataframe tbody tr th:only-of-type {\n",
       "        vertical-align: middle;\n",
       "    }\n",
       "\n",
       "    .dataframe tbody tr th {\n",
       "        vertical-align: top;\n",
       "    }\n",
       "\n",
       "    .dataframe thead th {\n",
       "        text-align: right;\n",
       "    }\n",
       "</style>\n",
       "<table border=\"1\" class=\"dataframe\">\n",
       "  <thead>\n",
       "    <tr style=\"text-align: right;\">\n",
       "      <th></th>\n",
       "      <th>age</th>\n",
       "      <th>workclass</th>\n",
       "      <th>education</th>\n",
       "      <th>education-num.</th>\n",
       "      <th>marital-status</th>\n",
       "      <th>occupation</th>\n",
       "      <th>relationship</th>\n",
       "      <th>sex</th>\n",
       "      <th>capital-gain</th>\n",
       "      <th>capital-loss</th>\n",
       "      <th>hours-per-week</th>\n",
       "      <th>native-country</th>\n",
       "      <th>wage</th>\n",
       "    </tr>\n",
       "  </thead>\n",
       "  <tbody>\n",
       "    <tr>\n",
       "      <th>0</th>\n",
       "      <td>39</td>\n",
       "      <td>State-gov</td>\n",
       "      <td>Bachelors</td>\n",
       "      <td>13</td>\n",
       "      <td>Never-married</td>\n",
       "      <td>Adm-clerical</td>\n",
       "      <td>Not-in-family</td>\n",
       "      <td>Male</td>\n",
       "      <td>2174</td>\n",
       "      <td>0</td>\n",
       "      <td>40</td>\n",
       "      <td>United-States</td>\n",
       "      <td>&lt;=50K</td>\n",
       "    </tr>\n",
       "    <tr>\n",
       "      <th>1</th>\n",
       "      <td>50</td>\n",
       "      <td>Self-emp-not-inc</td>\n",
       "      <td>Bachelors</td>\n",
       "      <td>13</td>\n",
       "      <td>Married-civ-spouse</td>\n",
       "      <td>Exec-managerial</td>\n",
       "      <td>Husband</td>\n",
       "      <td>Male</td>\n",
       "      <td>0</td>\n",
       "      <td>0</td>\n",
       "      <td>13</td>\n",
       "      <td>United-States</td>\n",
       "      <td>&lt;=50K</td>\n",
       "    </tr>\n",
       "    <tr>\n",
       "      <th>2</th>\n",
       "      <td>38</td>\n",
       "      <td>Private</td>\n",
       "      <td>HS-grad</td>\n",
       "      <td>9</td>\n",
       "      <td>Divorced</td>\n",
       "      <td>Handlers-cleaners</td>\n",
       "      <td>Not-in-family</td>\n",
       "      <td>Male</td>\n",
       "      <td>0</td>\n",
       "      <td>0</td>\n",
       "      <td>40</td>\n",
       "      <td>United-States</td>\n",
       "      <td>&lt;=50K</td>\n",
       "    </tr>\n",
       "  </tbody>\n",
       "</table>\n",
       "</div>"
      ],
      "text/plain": [
       "   age          workclass   education  education-num.       marital-status  \\\n",
       "0   39          State-gov   Bachelors              13        Never-married   \n",
       "1   50   Self-emp-not-inc   Bachelors              13   Married-civ-spouse   \n",
       "2   38            Private     HS-grad               9             Divorced   \n",
       "\n",
       "           occupation    relationship    sex  capital-gain  capital-loss  \\\n",
       "0        Adm-clerical   Not-in-family   Male          2174             0   \n",
       "1     Exec-managerial         Husband   Male             0             0   \n",
       "2   Handlers-cleaners   Not-in-family   Male             0             0   \n",
       "\n",
       "   hours-per-week  native-country    wage  \n",
       "0              40   United-States   <=50K  \n",
       "1              13   United-States   <=50K  \n",
       "2              40   United-States   <=50K  "
      ]
     },
     "execution_count": 9,
     "metadata": {},
     "output_type": "execute_result"
    }
   ],
   "source": [
    "tabular_dataset.take(3).to_pandas_dataframe()"
   ]
  },
  {
   "cell_type": "code",
   "execution_count": 10,
   "metadata": {
    "gather": {
     "logged": 1598275665403
    },
    "jupyter": {
     "outputs_hidden": false,
     "source_hidden": false
    },
    "nteract": {
     "transient": {
      "deleting": false
     }
    }
   },
   "outputs": [],
   "source": [
    "from azureml.train.automl import AutoMLConfig\n",
    "\n",
    "# Set parameters for AutoMLConfig\n",
    "# NOTE: DO NOT CHANGE THE experiment_timeout_minutes PARAMETER OR YOUR INSTANCE WILL TIME OUT.\n",
    "# If you wish to run the experiment longer, you will need to run this notebook in your own\n",
    "# Azure tenant, which will incur personal costs.\n",
    "automl_config = AutoMLConfig(\n",
    "    experiment_timeout_minutes = 30,\n",
    "    compute_target = compute_target,\n",
    "    primary_metric = 'accuracy',\n",
    "    n_cross_validations = 3, #typically 5, used to make time go quicker.\n",
    "    task = 'classification',\n",
    "    training_data = tabular_dataset,\n",
    "    debug_log = 'automl_errors.log',\n",
    "    label_column_name = 'wage',\n",
    "    enable_onnx_compatible_models = True)"
   ]
  },
  {
   "cell_type": "code",
   "execution_count": 11,
   "metadata": {},
   "outputs": [
    {
     "name": "stdout",
     "output_type": "stream",
     "text": [
      "Submitting remote run.\n",
      "No run_configuration provided, running on cpu-cluster-01 with default configuration\n",
      "Running on remote compute: cpu-cluster-01\n"
     ]
    },
    {
     "data": {
      "text/html": [
       "<table style=\"width:100%\"><tr><th>Experiment</th><th>Id</th><th>Type</th><th>Status</th><th>Details Page</th><th>Docs Page</th></tr><tr><td>udacity-project-automl</td><td>AutoML_0cd3151f-aa61-46db-8ff7-6c623baed449</td><td>automl</td><td>NotStarted</td><td><a href=\"https://ml.azure.com/runs/AutoML_0cd3151f-aa61-46db-8ff7-6c623baed449?wsid=/subscriptions/d4ad7261-832d-46b2-b093-22156001df5b/resourcegroups/aml-quickstarts-146639/workspaces/quick-starts-ws-146639&amp;tid=660b3398-b80e-49d2-bc5b-ac1dc93b5254\" target=\"_blank\" rel=\"noopener\">Link to Azure Machine Learning studio</a></td><td><a href=\"https://docs.microsoft.com/en-us/python/api/overview/azure/ml/intro?view=azure-ml-py\" target=\"_blank\" rel=\"noopener\">Link to Documentation</a></td></tr></table>"
      ],
      "text/plain": [
       "<IPython.core.display.HTML object>"
      ]
     },
     "metadata": {},
     "output_type": "display_data"
    },
    {
     "name": "stdout",
     "output_type": "stream",
     "text": [
      "\n",
      "Current status: FeaturesGeneration. Generating features for the dataset.\n",
      "Current status: DatasetFeaturization. Beginning to fit featurizers and featurize the dataset.\n",
      "Current status: DatasetCrossValidationSplit. Generating individually featurized CV splits.\n",
      "Current status: ModelSelection. Beginning model selection.\n",
      "\n",
      "****************************************************************************************************\n",
      "DATA GUARDRAILS: \n",
      "\n",
      "TYPE:         Class balancing detection\n",
      "STATUS:       PASSED\n",
      "DESCRIPTION:  Your inputs were analyzed, and all classes are balanced in your training data.\n",
      "              Learn more about imbalanced data: https://aka.ms/AutomatedMLImbalancedData\n",
      "\n",
      "****************************************************************************************************\n",
      "\n",
      "TYPE:         Missing feature values imputation\n",
      "STATUS:       PASSED\n",
      "DESCRIPTION:  No feature missing values were detected in the training data.\n",
      "              Learn more about missing value imputation: https://aka.ms/AutomatedMLFeaturization\n",
      "\n",
      "****************************************************************************************************\n",
      "\n",
      "TYPE:         High cardinality feature detection\n",
      "STATUS:       PASSED\n",
      "DESCRIPTION:  Your inputs were analyzed, and no high cardinality features were detected.\n",
      "              Learn more about high cardinality feature handling: https://aka.ms/AutomatedMLFeaturization\n",
      "\n",
      "****************************************************************************************************\n",
      "\n",
      "****************************************************************************************************\n",
      "ITERATION: The iteration being evaluated.\n",
      "PIPELINE: A summary description of the pipeline being evaluated.\n",
      "DURATION: Time taken for the current iteration.\n",
      "METRIC: The result of computing score on the fitted pipeline.\n",
      "BEST: The best observed score thus far.\n",
      "****************************************************************************************************\n",
      "\n",
      " ITERATION   PIPELINE                                       DURATION      METRIC      BEST\n",
      "         0   MaxAbsScaler LightGBM                          0:00:47       0.8695    0.8695\n",
      "         1   MaxAbsScaler XGBoostClassifier                 0:00:48       0.8619    0.8695\n",
      "         2   MaxAbsScaler RandomForest                      0:00:44       0.8367    0.8695\n",
      "         3   MaxAbsScaler RandomForest                      0:00:46       0.7793    0.8695\n",
      "         4   MaxAbsScaler RandomForest                      0:00:46       0.7401    0.8695\n",
      "         5   MaxAbsScaler RandomForest                      0:00:45       0.7375    0.8695\n",
      "         6   SparseNormalizer XGBoostClassifier             0:00:51       0.8608    0.8695\n",
      "         7   MaxAbsScaler RandomForest                      0:03:29       0.7702    0.8695\n",
      "         8   SparseNormalizer LightGBM                      0:00:45       0.8172    0.8695\n",
      "         9   MaxAbsScaler LogisticRegression                0:02:08       0.8474    0.8695\n",
      "        10   MaxAbsScaler RandomForest                      0:01:12       0.8067    0.8695\n",
      "        11   SparseNormalizer XGBoostClassifier             0:00:46       0.8040    0.8695\n",
      "        12   SparseNormalizer XGBoostClassifier             0:00:53       0.8616    0.8695\n",
      "        13   SparseNormalizer XGBoostClassifier             0:00:56       0.8666    0.8695\n",
      "        14   MaxAbsScaler ExtremeRandomTrees                0:01:11       0.8001    0.8695\n",
      "        15   MaxAbsScaler LightGBM                          0:00:45       0.8152    0.8695\n",
      "        16   StandardScalerWrapper LightGBM                 0:00:45       0.7694    0.8695\n",
      "        17   SparseNormalizer XGBoostClassifier             0:01:00       0.8664    0.8695\n",
      "        18   StandardScalerWrapper ExtremeRandomTrees       0:00:54       0.8085    0.8695\n",
      "        19   SparseNormalizer RandomForest                  0:00:47       0.8378    0.8695\n",
      "        20   SparseNormalizer ExtremeRandomTrees            0:00:44       0.7520    0.8695\n",
      "        21   SparseNormalizer XGBoostClassifier             0:01:06       0.8648    0.8695\n",
      "        22   SparseNormalizer LightGBM                      0:00:18          nan    0.8695\n",
      "ERROR: {\n",
      "    \"additional_properties\": {},\n",
      "    \"error\": {\n",
      "        \"additional_properties\": {\n",
      "            \"additionalInfo\": null,\n",
      "            \"debugInfo\": null\n",
      "        },\n",
      "        \"code\": \"UserError\",\n",
      "        \"severity\": null,\n",
      "        \"message\": \"Experiment timeout reached, please consider increasing your experiment timeout.\",\n",
      "        \"message_format\": \"Experiment timeout reached, please consider increasing your experiment timeout.\",\n",
      "        \"message_parameters\": {},\n",
      "        \"reference_code\": null,\n",
      "        \"details_uri\": null,\n",
      "        \"target\": null,\n",
      "        \"details\": [],\n",
      "        \"inner_error\": {\n",
      "            \"additional_properties\": {},\n",
      "            \"code\": \"ResourceExhausted\",\n",
      "            \"inner_error\": {\n",
      "                \"additional_properties\": {},\n",
      "                \"code\": \"Timeout\",\n",
      "                \"inner_error\": {\n",
      "                    \"additional_properties\": {},\n",
      "                    \"code\": \"ExperimentTimeoutForIterations\",\n",
      "                    \"inner_error\": null\n",
      "                }\n",
      "            }\n",
      "        }\n",
      "    },\n",
      "    \"correlation\": null,\n",
      "    \"environment\": null,\n",
      "    \"location\": null,\n",
      "    \"time\": {},\n",
      "    \"component_name\": null\n",
      "}\n",
      "        23    VotingEnsemble                                0:01:11       0.8700    0.8700\n"
     ]
    }
   ],
   "source": [
    "# Submit your automl run\n",
    "experiment = Experiment(ws, 'udacity-project-automl')\n",
    "automl_run = experiment.submit(config = automl_config, show_output = True)"
   ]
  },
  {
   "cell_type": "code",
   "execution_count": 12,
   "metadata": {},
   "outputs": [
    {
     "data": {
      "application/vnd.jupyter.widget-view+json": {
       "model_id": "d5632514516e4079870b8e4e16f370be",
       "version_major": 2,
       "version_minor": 0
      },
      "text/plain": [
       "_AutoMLWidget(widget_settings={'childWidgetDisplay': 'popup', 'send_telemetry': False, 'log_level': 'INFO', 's…"
      ]
     },
     "metadata": {},
     "output_type": "display_data"
    },
    {
     "data": {
      "application/aml.mini.widget.v1": "{\"status\": \"Completed\", \"workbench_run_details_uri\": \"https://ml.azure.com/runs/AutoML_0cd3151f-aa61-46db-8ff7-6c623baed449?wsid=/subscriptions/d4ad7261-832d-46b2-b093-22156001df5b/resourcegroups/aml-quickstarts-146639/workspaces/quick-starts-ws-146639&tid=660b3398-b80e-49d2-bc5b-ac1dc93b5254\", \"run_id\": \"AutoML_0cd3151f-aa61-46db-8ff7-6c623baed449\", \"run_properties\": {\"run_id\": \"AutoML_0cd3151f-aa61-46db-8ff7-6c623baed449\", \"created_utc\": \"2021-06-06T08:56:22.01614Z\", \"properties\": {\"num_iterations\": \"1000\", \"training_type\": \"TrainFull\", \"acquisition_function\": \"EI\", \"primary_metric\": \"accuracy\", \"train_split\": \"0\", \"acquisition_parameter\": \"0\", \"num_cross_validation\": \"3\", \"target\": \"cpu-cluster-01\", \"AMLSettingsJsonString\": \"{\\\"path\\\":null,\\\"name\\\":\\\"udacity-project-automl\\\",\\\"subscription_id\\\":\\\"d4ad7261-832d-46b2-b093-22156001df5b\\\",\\\"resource_group\\\":\\\"aml-quickstarts-146639\\\",\\\"workspace_name\\\":\\\"quick-starts-ws-146639\\\",\\\"region\\\":\\\"southcentralus\\\",\\\"compute_target\\\":\\\"cpu-cluster-01\\\",\\\"spark_service\\\":null,\\\"azure_service\\\":\\\"remote\\\",\\\"many_models\\\":false,\\\"pipeline_fetch_max_batch_size\\\":1,\\\"enable_batch_run\\\":false,\\\"enable_run_restructure\\\":false,\\\"start_auxiliary_runs_before_parent_complete\\\":false,\\\"enable_code_generation\\\":false,\\\"iterations\\\":1000,\\\"primary_metric\\\":\\\"accuracy\\\",\\\"task_type\\\":\\\"classification\\\",\\\"data_script\\\":null,\\\"test_size\\\":0.0,\\\"validation_size\\\":0.0,\\\"n_cross_validations\\\":3,\\\"y_min\\\":null,\\\"y_max\\\":null,\\\"num_classes\\\":null,\\\"featurization\\\":\\\"auto\\\",\\\"_ignore_package_version_incompatibilities\\\":false,\\\"is_timeseries\\\":false,\\\"max_cores_per_iteration\\\":1,\\\"max_concurrent_iterations\\\":1,\\\"iteration_timeout_minutes\\\":null,\\\"mem_in_mb\\\":null,\\\"enforce_time_on_windows\\\":false,\\\"experiment_timeout_minutes\\\":30,\\\"experiment_exit_score\\\":null,\\\"whitelist_models\\\":null,\\\"blacklist_algos\\\":[\\\"TensorFlowLinearClassifier\\\",\\\"TensorFlowDNN\\\"],\\\"supported_models\\\":[\\\"DecisionTree\\\",\\\"RandomForest\\\",\\\"ExtremeRandomTrees\\\",\\\"XGBoostClassifier\\\",\\\"KNN\\\",\\\"SVM\\\",\\\"AveragedPerceptronClassifier\\\",\\\"TensorFlowDNN\\\",\\\"MultinomialNaiveBayes\\\",\\\"BernoulliNaiveBayes\\\",\\\"LinearSVM\\\",\\\"TensorFlowLinearClassifier\\\",\\\"LightGBM\\\",\\\"SGD\\\",\\\"GradientBoosting\\\",\\\"LogisticRegression\\\"],\\\"private_models\\\":[],\\\"auto_blacklist\\\":true,\\\"blacklist_samples_reached\\\":false,\\\"exclude_nan_labels\\\":true,\\\"verbosity\\\":20,\\\"_debug_log\\\":\\\"azureml_automl.log\\\",\\\"show_warnings\\\":false,\\\"model_explainability\\\":true,\\\"service_url\\\":null,\\\"sdk_url\\\":null,\\\"sdk_packages\\\":null,\\\"enable_onnx_compatible_models\\\":true,\\\"enable_split_onnx_featurizer_estimator_models\\\":false,\\\"vm_type\\\":\\\"STANDARD_D2_V2\\\",\\\"telemetry_verbosity\\\":20,\\\"send_telemetry\\\":true,\\\"enable_dnn\\\":false,\\\"scenario\\\":\\\"SDK-1.13.0\\\",\\\"environment_label\\\":null,\\\"save_mlflow\\\":false,\\\"force_text_dnn\\\":false,\\\"enable_feature_sweeping\\\":false,\\\"enable_early_stopping\\\":false,\\\"early_stopping_n_iters\\\":10,\\\"metrics\\\":null,\\\"enable_metric_confidence\\\":false,\\\"enable_ensembling\\\":true,\\\"enable_stack_ensembling\\\":false,\\\"ensemble_iterations\\\":15,\\\"enable_tf\\\":false,\\\"enable_subsampling\\\":null,\\\"subsample_seed\\\":null,\\\"enable_nimbusml\\\":false,\\\"enable_streaming\\\":false,\\\"force_streaming\\\":false,\\\"track_child_runs\\\":true,\\\"allowed_private_models\\\":[],\\\"label_column_name\\\":\\\"wage\\\",\\\"weight_column_name\\\":null,\\\"cv_split_column_names\\\":null,\\\"enable_local_managed\\\":false,\\\"_local_managed_run_id\\\":null,\\\"cost_mode\\\":1,\\\"lag_length\\\":0,\\\"metric_operation\\\":\\\"maximize\\\",\\\"preprocess\\\":true}\", \"DataPrepJsonString\": \"{\\\\\\\"training_data\\\\\\\": {\\\\\\\"datasetId\\\\\\\": \\\\\\\"2baff087-0600-4fb2-a371-ab43d4cb0924\\\\\\\"}, \\\\\\\"datasets\\\\\\\": 0}\", \"EnableSubsampling\": null, \"runTemplate\": \"AutoML\", \"azureml.runsource\": \"automl\", \"display_task_type\": \"classification\", \"dependencies_versions\": \"{\\\"azureml-widgets\\\": \\\"1.28.0\\\", \\\"azureml-train\\\": \\\"1.28.0\\\", \\\"azureml-train-restclients-hyperdrive\\\": \\\"1.28.0\\\", \\\"azureml-train-core\\\": \\\"1.28.0\\\", \\\"azureml-train-automl\\\": \\\"1.28.0\\\", \\\"azureml-train-automl-runtime\\\": \\\"1.28.0\\\", \\\"azureml-train-automl-client\\\": \\\"1.28.0\\\", \\\"azureml-tensorboard\\\": \\\"1.28.0\\\", \\\"azureml-telemetry\\\": \\\"1.28.0\\\", \\\"azureml-sdk\\\": \\\"1.28.0\\\", \\\"azureml-samples\\\": \\\"0+unknown\\\", \\\"azureml-pipeline\\\": \\\"1.28.0\\\", \\\"azureml-pipeline-steps\\\": \\\"1.28.0\\\", \\\"azureml-pipeline-core\\\": \\\"1.28.0\\\", \\\"azureml-opendatasets\\\": \\\"1.28.0\\\", \\\"azureml-model-management-sdk\\\": \\\"1.0.1b6.post1\\\", \\\"azureml-mlflow\\\": \\\"1.28.0\\\", \\\"azureml-interpret\\\": \\\"1.28.0\\\", \\\"azureml-explain-model\\\": \\\"1.28.0\\\", \\\"azureml-defaults\\\": \\\"1.28.0\\\", \\\"azureml-dataset-runtime\\\": \\\"1.28.0\\\", \\\"azureml-dataprep\\\": \\\"2.15.0\\\", \\\"azureml-dataprep-rslex\\\": \\\"1.13.0\\\", \\\"azureml-dataprep-native\\\": \\\"33.0.0\\\", \\\"azureml-datadrift\\\": \\\"1.28.0\\\", \\\"azureml-core\\\": \\\"1.28.0\\\", \\\"azureml-contrib-services\\\": \\\"1.28.0\\\", \\\"azureml-contrib-server\\\": \\\"1.28.0\\\", \\\"azureml-contrib-reinforcementlearning\\\": \\\"1.28.0\\\", \\\"azureml-contrib-pipeline-steps\\\": \\\"1.28.0\\\", \\\"azureml-contrib-notebook\\\": \\\"1.28.0\\\", \\\"azureml-contrib-gbdt\\\": \\\"1.28.0\\\", \\\"azureml-contrib-fairness\\\": \\\"1.28.0\\\", \\\"azureml-contrib-dataset\\\": \\\"1.28.0\\\", \\\"azureml-cli-common\\\": \\\"1.28.0\\\", \\\"azureml-automl-runtime\\\": \\\"1.28.0.post2\\\", \\\"azureml-automl-dnn-nlp\\\": \\\"1.28.0\\\", \\\"azureml-automl-core\\\": \\\"1.28.0\\\", \\\"azureml-accel-models\\\": \\\"1.28.0\\\"}\", \"_aml_system_scenario_identification\": \"Remote.Parent\", \"ClientType\": \"SDK\", \"environment_cpu_name\": \"AzureML-AutoML\", \"environment_cpu_label\": \"prod\", \"environment_gpu_name\": \"AzureML-AutoML-GPU\", \"environment_gpu_label\": \"prod\", \"root_attribution\": \"automl\", \"attribution\": \"AutoML\", \"Orchestrator\": \"AutoML\", \"CancelUri\": \"https://southcentralus.api.azureml.ms/jasmine/v1.0/subscriptions/d4ad7261-832d-46b2-b093-22156001df5b/resourceGroups/aml-quickstarts-146639/providers/Microsoft.MachineLearningServices/workspaces/quick-starts-ws-146639/experimentids/6d513f20-4a02-4c59-af90-2f98d6d656a2/cancel/AutoML_0cd3151f-aa61-46db-8ff7-6c623baed449\", \"ClientSdkVersion\": \"1.29.0\", \"snapshotId\": \"00000000-0000-0000-0000-000000000000\", \"SetupRunId\": \"AutoML_0cd3151f-aa61-46db-8ff7-6c623baed449_setup\", \"SetupRunContainerId\": \"dcid.AutoML_0cd3151f-aa61-46db-8ff7-6c623baed449_setup\", \"FeaturizationRunJsonPath\": \"featurizer_container.json\", \"FeaturizationRunId\": \"AutoML_0cd3151f-aa61-46db-8ff7-6c623baed449_featurize\", \"ProblemInfoJsonString\": \"{\\\"dataset_num_categorical\\\": 0, \\\"is_sparse\\\": true, \\\"subsampling\\\": false, \\\"has_extra_col\\\": true, \\\"dataset_classes\\\": 2, \\\"dataset_features\\\": 74, \\\"dataset_samples\\\": 29170, \\\"single_frequency_class_detected\\\": false}\", \"ModelExplainRunId\": \"AutoML_0cd3151f-aa61-46db-8ff7-6c623baed449_ModelExplain\"}, \"tags\": {\"model_explain_run\": \"best_run\", \"_aml_system_azureml.automlComponent\": \"AutoML\", \"pipeline_id\": \"\", \"score\": \"\", \"predicted_cost\": \"\", \"fit_time\": \"\", \"training_percent\": \"\", \"iteration\": \"\", \"run_preprocessor\": \"\", \"run_algorithm\": \"\", \"automl_best_child_run_id\": \"AutoML_0cd3151f-aa61-46db-8ff7-6c623baed449_23\", \"model_explain_best_run_child_id\": \"AutoML_0cd3151f-aa61-46db-8ff7-6c623baed449_23\"}, \"end_time_utc\": \"2021-06-06T09:37:54.349056Z\", \"status\": \"Completed\", \"log_files\": {}, \"log_groups\": [], \"run_duration\": \"0:41:32\", \"run_number\": \"1622969782\", \"run_queued_details\": {\"status\": \"Completed\", \"details\": null}}, \"child_runs\": [{\"run_id\": \"AutoML_0cd3151f-aa61-46db-8ff7-6c623baed449_0\", \"run_number\": 1622970364, \"metric\": null, \"status\": \"Completed\", \"run_type\": \"azureml.scriptrun\", \"training_percent\": \"100\", \"start_time\": \"2021-06-06T09:06:20.840665Z\", \"end_time\": \"2021-06-06T09:07:07.81991Z\", \"created_time\": \"2021-06-06T09:06:04.017558Z\", \"created_time_dt\": \"2021-06-06T09:06:04.017558Z\", \"duration\": \"0:01:03\", \"iteration\": \"0\", \"goal\": \"accuracy_max\", \"run_name\": \"MaxAbsScaler, LightGBM\", \"run_properties\": \"copy=True\", \"primary_metric\": 0.86952346, \"best_metric\": 0.86952346}, {\"run_id\": \"AutoML_0cd3151f-aa61-46db-8ff7-6c623baed449_1\", \"run_number\": 1622970428, \"metric\": null, \"status\": \"Completed\", \"run_type\": \"azureml.scriptrun\", \"training_percent\": \"100\", \"start_time\": \"2021-06-06T09:07:20.866448Z\", \"end_time\": \"2021-06-06T09:08:09.215772Z\", \"created_time\": \"2021-06-06T09:07:08.862559Z\", \"created_time_dt\": \"2021-06-06T09:07:08.862559Z\", \"duration\": \"0:01:00\", \"iteration\": \"1\", \"goal\": \"accuracy_max\", \"run_name\": \"MaxAbsScaler, XGBoostClassifier\", \"run_properties\": \"copy=True\", \"primary_metric\": 0.86187866, \"best_metric\": 0.86952346}, {\"run_id\": \"AutoML_0cd3151f-aa61-46db-8ff7-6c623baed449_2\", \"run_number\": 1622970490, \"metric\": null, \"status\": \"Completed\", \"run_type\": \"azureml.scriptrun\", \"training_percent\": \"100\", \"start_time\": \"2021-06-06T09:08:27.299494Z\", \"end_time\": \"2021-06-06T09:09:11.366688Z\", \"created_time\": \"2021-06-06T09:08:10.526987Z\", \"created_time_dt\": \"2021-06-06T09:08:10.526987Z\", \"duration\": \"0:01:00\", \"iteration\": \"2\", \"goal\": \"accuracy_max\", \"run_name\": \"MaxAbsScaler, RandomForest\", \"run_properties\": \"copy=True\", \"primary_metric\": 0.83668161, \"best_metric\": 0.86952346}, {\"run_id\": \"AutoML_0cd3151f-aa61-46db-8ff7-6c623baed449_3\", \"run_number\": 1622970553, \"metric\": null, \"status\": \"Completed\", \"run_type\": \"azureml.scriptrun\", \"training_percent\": \"100\", \"start_time\": \"2021-06-06T09:09:27.430616Z\", \"end_time\": \"2021-06-06T09:10:13.673651Z\", \"created_time\": \"2021-06-06T09:09:13.270271Z\", \"created_time_dt\": \"2021-06-06T09:09:13.270271Z\", \"duration\": \"0:01:00\", \"iteration\": \"3\", \"goal\": \"accuracy_max\", \"run_name\": \"MaxAbsScaler, RandomForest\", \"run_properties\": \"copy=True\", \"primary_metric\": 0.77932812, \"best_metric\": 0.86952346}, {\"run_id\": \"AutoML_0cd3151f-aa61-46db-8ff7-6c623baed449_4\", \"run_number\": 1622970616, \"metric\": null, \"status\": \"Completed\", \"run_type\": \"azureml.scriptrun\", \"training_percent\": \"100\", \"start_time\": \"2021-06-06T09:10:31.459029Z\", \"end_time\": \"2021-06-06T09:11:17.714167Z\", \"created_time\": \"2021-06-06T09:10:16.109133Z\", \"created_time_dt\": \"2021-06-06T09:10:16.109133Z\", \"duration\": \"0:01:01\", \"iteration\": \"4\", \"goal\": \"accuracy_max\", \"run_name\": \"MaxAbsScaler, RandomForest\", \"run_properties\": \"copy=True\", \"primary_metric\": 0.74010993, \"best_metric\": 0.86952346}, {\"run_id\": \"AutoML_0cd3151f-aa61-46db-8ff7-6c623baed449_5\", \"run_number\": 1622970680, \"metric\": null, \"status\": \"Completed\", \"run_type\": \"azureml.scriptrun\", \"training_percent\": \"100\", \"start_time\": \"2021-06-06T09:11:32.294719Z\", \"end_time\": \"2021-06-06T09:12:17.730988Z\", \"created_time\": \"2021-06-06T09:11:20.313833Z\", \"created_time_dt\": \"2021-06-06T09:11:20.313833Z\", \"duration\": \"0:00:57\", \"iteration\": \"5\", \"goal\": \"accuracy_max\", \"run_name\": \"MaxAbsScaler, RandomForest\", \"run_properties\": \"copy=True\", \"primary_metric\": 0.73753876, \"best_metric\": 0.86952346}, {\"run_id\": \"AutoML_0cd3151f-aa61-46db-8ff7-6c623baed449_6\", \"run_number\": 1622970739, \"metric\": null, \"status\": \"Completed\", \"run_type\": \"azureml.scriptrun\", \"training_percent\": \"100\", \"start_time\": \"2021-06-06T09:12:31.781062Z\", \"end_time\": \"2021-06-06T09:13:23.234673Z\", \"created_time\": \"2021-06-06T09:12:19.608623Z\", \"created_time_dt\": \"2021-06-06T09:12:19.608623Z\", \"duration\": \"0:01:03\", \"iteration\": \"6\", \"goal\": \"accuracy_max\", \"run_name\": \"SparseNormalizer, XGBoostClassifier\", \"run_properties\": \"copy=True, norm='l2'\", \"primary_metric\": 0.86081597, \"best_metric\": 0.86952346}, {\"run_id\": \"AutoML_0cd3151f-aa61-46db-8ff7-6c623baed449_7\", \"run_number\": 1622970805, \"metric\": null, \"status\": \"Completed\", \"run_type\": \"azureml.scriptrun\", \"training_percent\": \"100\", \"start_time\": \"2021-06-06T09:15:46.39006Z\", \"end_time\": \"2021-06-06T09:19:15.312675Z\", \"created_time\": \"2021-06-06T09:13:25.1485Z\", \"created_time_dt\": \"2021-06-06T09:13:25.1485Z\", \"duration\": \"0:05:50\", \"iteration\": \"7\", \"goal\": \"accuracy_max\", \"run_name\": \"MaxAbsScaler, RandomForest\", \"run_properties\": \"copy=True\", \"primary_metric\": 0.77020962, \"best_metric\": 0.86952346}, {\"run_id\": \"AutoML_0cd3151f-aa61-46db-8ff7-6c623baed449_8\", \"run_number\": 1622971157, \"metric\": null, \"status\": \"Completed\", \"run_type\": \"azureml.scriptrun\", \"training_percent\": \"100\", \"start_time\": \"2021-06-06T09:19:29.20612Z\", \"end_time\": \"2021-06-06T09:20:14.277447Z\", \"created_time\": \"2021-06-06T09:19:17.504509Z\", \"created_time_dt\": \"2021-06-06T09:19:17.504509Z\", \"duration\": \"0:00:56\", \"iteration\": \"8\", \"goal\": \"accuracy_max\", \"run_name\": \"SparseNormalizer, LightGBM\", \"run_properties\": \"copy=True, norm='l2'\", \"primary_metric\": 0.81720947, \"best_metric\": 0.86952346}, {\"run_id\": \"AutoML_0cd3151f-aa61-46db-8ff7-6c623baed449_9\", \"run_number\": 1622971216, \"metric\": null, \"status\": \"Completed\", \"run_type\": \"azureml.scriptrun\", \"training_percent\": \"100\", \"start_time\": \"2021-06-06T09:20:26.087835Z\", \"end_time\": \"2021-06-06T09:22:33.612497Z\", \"created_time\": \"2021-06-06T09:20:16.138514Z\", \"created_time_dt\": \"2021-06-06T09:20:16.138514Z\", \"duration\": \"0:02:17\", \"iteration\": \"9\", \"goal\": \"accuracy_max\", \"run_name\": \"MaxAbsScaler, LogisticRegression\", \"run_properties\": \"copy=True\", \"primary_metric\": 0.8474117, \"best_metric\": 0.86952346}, {\"run_id\": \"AutoML_0cd3151f-aa61-46db-8ff7-6c623baed449_10\", \"run_number\": 1622971355, \"metric\": null, \"status\": \"Completed\", \"run_type\": \"azureml.scriptrun\", \"training_percent\": \"100\", \"start_time\": \"2021-06-06T09:22:58.936498Z\", \"end_time\": \"2021-06-06T09:24:11.176039Z\", \"created_time\": \"2021-06-06T09:22:35.540826Z\", \"created_time_dt\": \"2021-06-06T09:22:35.540826Z\", \"duration\": \"0:01:35\", \"iteration\": \"10\", \"goal\": \"accuracy_max\", \"run_name\": \"MaxAbsScaler, RandomForest\", \"run_properties\": \"copy=True\", \"primary_metric\": 0.8066507, \"best_metric\": 0.86952346}, {\"run_id\": \"AutoML_0cd3151f-aa61-46db-8ff7-6c623baed449_11\", \"run_number\": 1622971452, \"metric\": null, \"status\": \"Completed\", \"run_type\": \"azureml.scriptrun\", \"training_percent\": \"100\", \"start_time\": \"2021-06-06T09:24:21.567697Z\", \"end_time\": \"2021-06-06T09:25:07.986703Z\", \"created_time\": \"2021-06-06T09:24:12.961867Z\", \"created_time_dt\": \"2021-06-06T09:24:12.961867Z\", \"duration\": \"0:00:55\", \"iteration\": \"11\", \"goal\": \"accuracy_max\", \"run_name\": \"SparseNormalizer, XGBoostClassifier\", \"run_properties\": \"copy=True, norm='max'\", \"primary_metric\": 0.80404553, \"best_metric\": 0.86952346}, {\"run_id\": \"AutoML_0cd3151f-aa61-46db-8ff7-6c623baed449_12\", \"run_number\": 1622971509, \"metric\": null, \"status\": \"Completed\", \"run_type\": \"azureml.scriptrun\", \"training_percent\": \"100\", \"start_time\": \"2021-06-06T09:25:17.312401Z\", \"end_time\": \"2021-06-06T09:26:10.067514Z\", \"created_time\": \"2021-06-06T09:25:09.606097Z\", \"created_time_dt\": \"2021-06-06T09:25:09.606097Z\", \"duration\": \"0:01:00\", \"iteration\": \"12\", \"goal\": \"accuracy_max\", \"run_name\": \"SparseNormalizer, XGBoostClassifier\", \"run_properties\": \"copy=True, norm='max'\", \"primary_metric\": 0.86157007, \"best_metric\": 0.86952346}, {\"run_id\": \"AutoML_0cd3151f-aa61-46db-8ff7-6c623baed449_13\", \"run_number\": 1622971571, \"metric\": null, \"status\": \"Completed\", \"run_type\": \"azureml.scriptrun\", \"training_percent\": \"100\", \"start_time\": \"2021-06-06T09:26:21.56287Z\", \"end_time\": \"2021-06-06T09:27:18.034421Z\", \"created_time\": \"2021-06-06T09:26:11.810122Z\", \"created_time_dt\": \"2021-06-06T09:26:11.810122Z\", \"duration\": \"0:01:06\", \"iteration\": \"13\", \"goal\": \"accuracy_max\", \"run_name\": \"SparseNormalizer, XGBoostClassifier\", \"run_properties\": \"copy=True, norm='max'\", \"primary_metric\": 0.86664376, \"best_metric\": 0.86952346}, {\"run_id\": \"AutoML_0cd3151f-aa61-46db-8ff7-6c623baed449_14\", \"run_number\": 1622971639, \"metric\": null, \"status\": \"Completed\", \"run_type\": \"azureml.scriptrun\", \"training_percent\": \"100\", \"start_time\": \"2021-06-06T09:27:27.962621Z\", \"end_time\": \"2021-06-06T09:28:39.172661Z\", \"created_time\": \"2021-06-06T09:27:19.802096Z\", \"created_time_dt\": \"2021-06-06T09:27:19.802096Z\", \"duration\": \"0:01:19\", \"iteration\": \"14\", \"goal\": \"accuracy_max\", \"run_name\": \"MaxAbsScaler, ExtremeRandomTrees\", \"run_properties\": \"copy=True\", \"primary_metric\": 0.80013738, \"best_metric\": 0.86952346}, {\"run_id\": \"AutoML_0cd3151f-aa61-46db-8ff7-6c623baed449_15\", \"run_number\": 1622971721, \"metric\": null, \"status\": \"Completed\", \"run_type\": \"azureml.scriptrun\", \"training_percent\": \"100\", \"start_time\": \"2021-06-06T09:28:51.257265Z\", \"end_time\": \"2021-06-06T09:29:35.988564Z\", \"created_time\": \"2021-06-06T09:28:41.092079Z\", \"created_time_dt\": \"2021-06-06T09:28:41.092079Z\", \"duration\": \"0:00:54\", \"iteration\": \"15\", \"goal\": \"accuracy_max\", \"run_name\": \"MaxAbsScaler, LightGBM\", \"run_properties\": \"copy=True\", \"primary_metric\": 0.81518704, \"best_metric\": 0.86952346}, {\"run_id\": \"AutoML_0cd3151f-aa61-46db-8ff7-6c623baed449_16\", \"run_number\": 1622971777, \"metric\": null, \"status\": \"Completed\", \"run_type\": \"azureml.scriptrun\", \"training_percent\": \"100\", \"start_time\": \"2021-06-06T09:29:51.003443Z\", \"end_time\": \"2021-06-06T09:30:36.483872Z\", \"created_time\": \"2021-06-06T09:29:37.916431Z\", \"created_time_dt\": \"2021-06-06T09:29:37.916431Z\", \"duration\": \"0:00:58\", \"iteration\": \"16\", \"goal\": \"accuracy_max\", \"run_name\": \"StandardScalerWrapper, LightGBM\", \"run_properties\": \"\\n    copy=True,\\n    with_mean=False,\\n    with_std=False\\n\", \"primary_metric\": 0.76938678, \"best_metric\": 0.86952346}, {\"run_id\": \"AutoML_0cd3151f-aa61-46db-8ff7-6c623baed449_17\", \"run_number\": 1622971838, \"metric\": null, \"status\": \"Completed\", \"run_type\": \"azureml.scriptrun\", \"training_percent\": \"100\", \"start_time\": \"2021-06-06T09:30:48.794196Z\", \"end_time\": \"2021-06-06T09:31:48.356862Z\", \"created_time\": \"2021-06-06T09:30:38.841332Z\", \"created_time_dt\": \"2021-06-06T09:30:38.841332Z\", \"duration\": \"0:01:09\", \"iteration\": \"17\", \"goal\": \"accuracy_max\", \"run_name\": \"SparseNormalizer, XGBoostClassifier\", \"run_properties\": \"copy=True, norm='l2'\", \"primary_metric\": 0.86643809, \"best_metric\": 0.86952346}, {\"run_id\": \"AutoML_0cd3151f-aa61-46db-8ff7-6c623baed449_18\", \"run_number\": 1622971910, \"metric\": null, \"status\": \"Completed\", \"run_type\": \"azureml.scriptrun\", \"training_percent\": \"100\", \"start_time\": \"2021-06-06T09:32:01.525226Z\", \"end_time\": \"2021-06-06T09:32:55.216353Z\", \"created_time\": \"2021-06-06T09:31:50.736888Z\", \"created_time_dt\": \"2021-06-06T09:31:50.736888Z\", \"duration\": \"0:01:04\", \"iteration\": \"18\", \"goal\": \"accuracy_max\", \"run_name\": \"StandardScalerWrapper, ExtremeRandomTrees\", \"run_properties\": \"\\n    copy=True,\\n    with_mean=False,\\n    with_std=True\\n\", \"primary_metric\": 0.80853643, \"best_metric\": 0.86952346}, {\"run_id\": \"AutoML_0cd3151f-aa61-46db-8ff7-6c623baed449_19\", \"run_number\": 1622971977, \"metric\": null, \"status\": \"Completed\", \"run_type\": \"azureml.scriptrun\", \"training_percent\": \"100\", \"start_time\": \"2021-06-06T09:33:04.921177Z\", \"end_time\": \"2021-06-06T09:33:51.858404Z\", \"created_time\": \"2021-06-06T09:32:57.034301Z\", \"created_time_dt\": \"2021-06-06T09:32:57.034301Z\", \"duration\": \"0:00:54\", \"iteration\": \"19\", \"goal\": \"accuracy_max\", \"run_name\": \"SparseNormalizer, RandomForest\", \"run_properties\": \"copy=True, norm='max'\", \"primary_metric\": 0.83781283, \"best_metric\": 0.86952346}, {\"run_id\": \"AutoML_0cd3151f-aa61-46db-8ff7-6c623baed449_20\", \"run_number\": 1622972033, \"metric\": null, \"status\": \"Completed\", \"run_type\": \"azureml.scriptrun\", \"training_percent\": \"100\", \"start_time\": \"2021-06-06T09:34:01.432294Z\", \"end_time\": \"2021-06-06T09:34:45.494068Z\", \"created_time\": \"2021-06-06T09:33:53.840675Z\", \"created_time_dt\": \"2021-06-06T09:33:53.840675Z\", \"duration\": \"0:00:51\", \"iteration\": \"20\", \"goal\": \"accuracy_max\", \"run_name\": \"SparseNormalizer, ExtremeRandomTrees\", \"run_properties\": \"copy=True, norm='l1'\", \"primary_metric\": 0.75197167, \"best_metric\": 0.86952346}, {\"run_id\": \"AutoML_0cd3151f-aa61-46db-8ff7-6c623baed449_21\", \"run_number\": 1622972087, \"metric\": null, \"status\": \"Completed\", \"run_type\": \"azureml.scriptrun\", \"training_percent\": \"100\", \"start_time\": \"2021-06-06T09:34:57.204474Z\", \"end_time\": \"2021-06-06T09:36:03.042386Z\", \"created_time\": \"2021-06-06T09:34:47.433156Z\", \"created_time_dt\": \"2021-06-06T09:34:47.433156Z\", \"duration\": \"0:01:15\", \"iteration\": \"21\", \"goal\": \"accuracy_max\", \"run_name\": \"SparseNormalizer, XGBoostClassifier\", \"run_properties\": \"copy=True, norm='l2'\", \"primary_metric\": 0.86475827, \"best_metric\": 0.86952346}, {\"run_id\": \"AutoML_0cd3151f-aa61-46db-8ff7-6c623baed449_22\", \"run_number\": 1622972165, \"metric\": null, \"status\": \"Canceled\", \"run_type\": \"azureml.scriptrun\", \"training_percent\": \"100\", \"start_time\": \"2021-06-06T09:36:13.143095Z\", \"end_time\": \"2021-06-06T09:36:31.149208Z\", \"created_time\": \"2021-06-06T09:36:05.112336Z\", \"created_time_dt\": \"2021-06-06T09:36:05.112336Z\", \"duration\": \"0:00:26\", \"iteration\": \"22\", \"goal\": null, \"run_name\": \"SparseNormalizer, LightGBM\", \"run_properties\": null}, {\"run_id\": \"AutoML_0cd3151f-aa61-46db-8ff7-6c623baed449_23\", \"run_number\": 1622972192, \"metric\": null, \"status\": \"Completed\", \"run_type\": \"azureml.scriptrun\", \"training_percent\": \"100\", \"start_time\": \"2021-06-06T09:36:40.963907Z\", \"end_time\": \"2021-06-06T09:37:52.096385Z\", \"created_time\": \"2021-06-06T09:36:32.031161Z\", \"created_time_dt\": \"2021-06-06T09:36:32.031161Z\", \"duration\": \"0:01:20\", \"iteration\": \"23\", \"goal\": \"accuracy_max\", \"run_name\": \"VotingEnsemble\", \"run_properties\": \"\\n    estimators=[('0', Pipeline(memory=None,\\n             steps=[('maxabsscaler', MaxAbsScaler(copy=True\", \"primary_metric\": 0.86996908, \"best_metric\": 0.86996908}], \"children_metrics\": {\"categories\": [0], \"series\": {\"recall_score_weighted\": [{\"categories\": [\"0\", \"1\", \"2\", \"3\", \"4\", \"5\", \"6\", \"7\", \"8\", \"9\", \"10\", \"11\", \"12\", \"13\", \"14\", \"15\", \"16\", \"17\", \"18\", \"19\", \"20\", \"21\", \"23\"], \"mode\": \"markers\", \"name\": \"recall_score_weighted\", \"stepped\": false, \"type\": \"scatter\", \"data\": [0.8695234556942091, 0.8618786632698461, 0.8366816063423865, 0.7793281197550033, 0.7401099303017737, 0.7375387638378363, 0.8608159722376468, 0.7702096249294826, 0.8172094742733798, 0.847411696986084, 0.8066507032966187, 0.804045528858132, 0.8615700671665607, 0.8666437636390628, 0.8001373793839809, 0.8151870363152284, 0.7693867842514774, 0.8664380940140056, 0.8085364289150339, 0.8378128315874473, 0.751971665737388, 0.8647582671848966, 0.8699690779159716]}, {\"categories\": [\"0\", \"1\", \"2\", \"3\", \"4\", \"5\", \"6\", \"7\", \"8\", \"9\", \"10\", \"11\", \"12\", \"13\", \"14\", \"15\", \"16\", \"17\", \"18\", \"19\", \"20\", \"21\", \"23\"], \"mode\": \"lines\", \"name\": \"recall_score_weighted_max\", \"stepped\": true, \"type\": \"scatter\", \"data\": [0.8695234556942091, 0.8695234556942091, 0.8695234556942091, 0.8695234556942091, 0.8695234556942091, 0.8695234556942091, 0.8695234556942091, 0.8695234556942091, 0.8695234556942091, 0.8695234556942091, 0.8695234556942091, 0.8695234556942091, 0.8695234556942091, 0.8695234556942091, 0.8695234556942091, 0.8695234556942091, 0.8695234556942091, 0.8695234556942091, 0.8695234556942091, 0.8695234556942091, 0.8695234556942091, 0.8695234556942091, 0.8699690779159716]}], \"norm_macro_recall\": [{\"categories\": [\"0\", \"1\", \"2\", \"3\", \"4\", \"5\", \"6\", \"7\", \"8\", \"9\", \"10\", \"11\", \"12\", \"13\", \"14\", \"15\", \"16\", \"17\", \"18\", \"19\", \"20\", \"21\", \"23\"], \"mode\": \"markers\", \"name\": \"norm_macro_recall\", \"stepped\": false, \"type\": \"scatter\", \"data\": [0.5960267624497805, 0.5358383756905464, 0.4303155041000896, 0.12953186994983143, 0.5595705581054626, 0.5435627996095221, 0.543270907564619, 0.06906252589320412, 0.3981747076575299, 0.5258506052793012, 0.3072145058712208, 0.20944219170599476, 0.5457906247963024, 0.5719387746533958, 0.27390194918667693, 0.2931285655219697, 0.06327361950385339, 0.5751612505726682, 0.2981969686534201, 0.43871051367529246, 0.5621205200327983, 0.5790418668810285, 0.5991193482150504]}, {\"categories\": [\"0\", \"1\", \"2\", \"3\", \"4\", \"5\", \"6\", \"7\", \"8\", \"9\", \"10\", \"11\", \"12\", \"13\", \"14\", \"15\", \"16\", \"17\", \"18\", \"19\", \"20\", \"21\", \"23\"], \"mode\": \"lines\", \"name\": \"norm_macro_recall_max\", \"stepped\": true, \"type\": \"scatter\", \"data\": [0.5960267624497805, 0.5960267624497805, 0.5960267624497805, 0.5960267624497805, 0.5960267624497805, 0.5960267624497805, 0.5960267624497805, 0.5960267624497805, 0.5960267624497805, 0.5960267624497805, 0.5960267624497805, 0.5960267624497805, 0.5960267624497805, 0.5960267624497805, 0.5960267624497805, 0.5960267624497805, 0.5960267624497805, 0.5960267624497805, 0.5960267624497805, 0.5960267624497805, 0.5960267624497805, 0.5960267624497805, 0.5991193482150504]}], \"average_precision_score_micro\": [{\"categories\": [\"0\", \"1\", \"2\", \"3\", \"4\", \"5\", \"6\", \"7\", \"8\", \"9\", \"10\", \"11\", \"12\", \"13\", \"14\", \"15\", \"16\", \"17\", \"18\", \"19\", \"20\", \"21\", \"23\"], \"mode\": \"markers\", \"name\": \"average_precision_score_micro\", \"stepped\": false, \"type\": \"scatter\", \"data\": [0.9520049468396499, 0.9471029724146515, 0.923560736313096, 0.8951480732970255, 0.8749286712792078, 0.8717669658314935, 0.9459554881851645, 0.8969748409121724, 0.9109165696774753, 0.936399893455822, 0.9045127961201088, 0.9060327888902147, 0.9458776046829046, 0.9492077105468132, 0.8961504331302494, 0.9100357396683192, 0.8983020623410293, 0.9487091605819912, 0.9032680089956376, 0.9238092244625143, 0.8508502756659612, 0.9486620879181031, 0.9498841141891488]}, {\"categories\": [\"0\", \"1\", \"2\", \"3\", \"4\", \"5\", \"6\", \"7\", \"8\", \"9\", \"10\", \"11\", \"12\", \"13\", \"14\", \"15\", \"16\", \"17\", \"18\", \"19\", \"20\", \"21\", \"23\"], \"mode\": \"lines\", \"name\": \"average_precision_score_micro_max\", \"stepped\": true, \"type\": \"scatter\", \"data\": [0.9520049468396499, 0.9520049468396499, 0.9520049468396499, 0.9520049468396499, 0.9520049468396499, 0.9520049468396499, 0.9520049468396499, 0.9520049468396499, 0.9520049468396499, 0.9520049468396499, 0.9520049468396499, 0.9520049468396499, 0.9520049468396499, 0.9520049468396499, 0.9520049468396499, 0.9520049468396499, 0.9520049468396499, 0.9520049468396499, 0.9520049468396499, 0.9520049468396499, 0.9520049468396499, 0.9520049468396499, 0.9520049468396499]}], \"AUC_macro\": [{\"categories\": [\"0\", \"1\", \"2\", \"3\", \"4\", \"5\", \"6\", \"7\", \"8\", \"9\", \"10\", \"11\", \"12\", \"13\", \"14\", \"15\", \"16\", \"17\", \"18\", \"19\", \"20\", \"21\", \"23\"], \"mode\": \"markers\", \"name\": \"AUC_macro\", \"stepped\": false, \"type\": \"scatter\", \"data\": [0.9268582747567339, 0.9193192227742996, 0.8892515927725683, 0.8571768582526978, 0.8790508608189112, 0.8669740029001572, 0.9177760047642932, 0.8637066018857875, 0.8658414370456872, 0.9051735108239893, 0.859453397421086, 0.8648221003307865, 0.9171801381312267, 0.9226062628416946, 0.843784448027963, 0.8769478159198171, 0.870660128318906, 0.9219425286230166, 0.8633897371388451, 0.8857018671323585, 0.8606777719929385, 0.9217422364440736, 0.923689108365831]}, {\"categories\": [\"0\", \"1\", \"2\", \"3\", \"4\", \"5\", \"6\", \"7\", \"8\", \"9\", \"10\", \"11\", \"12\", \"13\", \"14\", \"15\", \"16\", \"17\", \"18\", \"19\", \"20\", \"21\", \"23\"], \"mode\": \"lines\", \"name\": \"AUC_macro_max\", \"stepped\": true, \"type\": \"scatter\", \"data\": [0.9268582747567339, 0.9268582747567339, 0.9268582747567339, 0.9268582747567339, 0.9268582747567339, 0.9268582747567339, 0.9268582747567339, 0.9268582747567339, 0.9268582747567339, 0.9268582747567339, 0.9268582747567339, 0.9268582747567339, 0.9268582747567339, 0.9268582747567339, 0.9268582747567339, 0.9268582747567339, 0.9268582747567339, 0.9268582747567339, 0.9268582747567339, 0.9268582747567339, 0.9268582747567339, 0.9268582747567339, 0.9268582747567339]}], \"precision_score_micro\": [{\"categories\": [\"0\", \"1\", \"2\", \"3\", \"4\", \"5\", \"6\", \"7\", \"8\", \"9\", \"10\", \"11\", \"12\", \"13\", \"14\", \"15\", \"16\", \"17\", \"18\", \"19\", \"20\", \"21\", \"23\"], \"mode\": \"markers\", \"name\": \"precision_score_micro\", \"stepped\": false, \"type\": \"scatter\", \"data\": [0.8695234556942091, 0.8618786632698461, 0.8366816063423865, 0.7793281197550033, 0.7401099303017737, 0.7375387638378363, 0.8608159722376468, 0.7702096249294826, 0.8172094742733798, 0.847411696986084, 0.8066507032966187, 0.804045528858132, 0.8615700671665607, 0.8666437636390628, 0.8001373793839809, 0.8151870363152284, 0.7693867842514774, 0.8664380940140056, 0.8085364289150339, 0.8378128315874473, 0.751971665737388, 0.8647582671848966, 0.8699690779159716]}, {\"categories\": [\"0\", \"1\", \"2\", \"3\", \"4\", \"5\", \"6\", \"7\", \"8\", \"9\", \"10\", \"11\", \"12\", \"13\", \"14\", \"15\", \"16\", \"17\", \"18\", \"19\", \"20\", \"21\", \"23\"], \"mode\": \"lines\", \"name\": \"precision_score_micro_max\", \"stepped\": true, \"type\": \"scatter\", \"data\": [0.8695234556942091, 0.8695234556942091, 0.8695234556942091, 0.8695234556942091, 0.8695234556942091, 0.8695234556942091, 0.8695234556942091, 0.8695234556942091, 0.8695234556942091, 0.8695234556942091, 0.8695234556942091, 0.8695234556942091, 0.8695234556942091, 0.8695234556942091, 0.8695234556942091, 0.8695234556942091, 0.8695234556942091, 0.8695234556942091, 0.8695234556942091, 0.8695234556942091, 0.8695234556942091, 0.8695234556942091, 0.8699690779159716]}], \"average_precision_score_macro\": [{\"categories\": [\"0\", \"1\", \"2\", \"3\", \"4\", \"5\", \"6\", \"7\", \"8\", \"9\", \"10\", \"11\", \"12\", \"13\", \"14\", \"15\", \"16\", \"17\", \"18\", \"19\", \"20\", \"21\", \"23\"], \"mode\": \"markers\", \"name\": \"average_precision_score_macro\", \"stepped\": false, \"type\": \"scatter\", \"data\": [0.9012764443449205, 0.8926990066752785, 0.848025913027258, 0.797892223164013, 0.8353916898953538, 0.8238764730033483, 0.8907160703056558, 0.8126636020856638, 0.8161041127517278, 0.8661087756778291, 0.7973796473036495, 0.8096934786392772, 0.8907543747087745, 0.8966130618977809, 0.77842791853879, 0.8307693980697048, 0.8217177164192796, 0.8956440728700988, 0.8101094066053877, 0.8504083940543351, 0.7913523189463832, 0.8948757354666649, 0.8984269072518346]}, {\"categories\": [\"0\", \"1\", \"2\", \"3\", \"4\", \"5\", \"6\", \"7\", \"8\", \"9\", \"10\", \"11\", \"12\", \"13\", \"14\", \"15\", \"16\", \"17\", \"18\", \"19\", \"20\", \"21\", \"23\"], \"mode\": \"lines\", \"name\": \"average_precision_score_macro_max\", \"stepped\": true, \"type\": \"scatter\", \"data\": [0.9012764443449205, 0.9012764443449205, 0.9012764443449205, 0.9012764443449205, 0.9012764443449205, 0.9012764443449205, 0.9012764443449205, 0.9012764443449205, 0.9012764443449205, 0.9012764443449205, 0.9012764443449205, 0.9012764443449205, 0.9012764443449205, 0.9012764443449205, 0.9012764443449205, 0.9012764443449205, 0.9012764443449205, 0.9012764443449205, 0.9012764443449205, 0.9012764443449205, 0.9012764443449205, 0.9012764443449205, 0.9012764443449205]}], \"f1_score_macro\": [{\"categories\": [\"0\", \"1\", \"2\", \"3\", \"4\", \"5\", \"6\", \"7\", \"8\", \"9\", \"10\", \"11\", \"12\", \"13\", \"14\", \"15\", \"16\", \"17\", \"18\", \"19\", \"20\", \"21\", \"23\"], \"mode\": \"markers\", \"name\": \"f1_score_macro\", \"stepped\": false, \"type\": \"scatter\", \"data\": [0.8139648547383068, 0.7935439572685539, 0.7433267812543886, 0.5524240232106244, 0.7107710823365423, 0.7065724093528489, 0.7945774535228672, 0.4988445302296351, 0.7207021146194087, 0.7797865729980603, 0.677051261704621, 0.6161580998387535, 0.7958156459550834, 0.8062223344711787, 0.657451158039211, 0.6721376631133773, 0.49331384644880355, 0.806787178274646, 0.6729277710011979, 0.7471132478766435, 0.719502910860584, 0.8062559951592453, 0.8149840084860376]}, {\"categories\": [\"0\", \"1\", \"2\", \"3\", \"4\", \"5\", \"6\", \"7\", \"8\", \"9\", \"10\", \"11\", \"12\", \"13\", \"14\", \"15\", \"16\", \"17\", \"18\", \"19\", \"20\", \"21\", \"23\"], \"mode\": \"lines\", \"name\": \"f1_score_macro_max\", \"stepped\": true, \"type\": \"scatter\", \"data\": [0.8139648547383068, 0.8139648547383068, 0.8139648547383068, 0.8139648547383068, 0.8139648547383068, 0.8139648547383068, 0.8139648547383068, 0.8139648547383068, 0.8139648547383068, 0.8139648547383068, 0.8139648547383068, 0.8139648547383068, 0.8139648547383068, 0.8139648547383068, 0.8139648547383068, 0.8139648547383068, 0.8139648547383068, 0.8139648547383068, 0.8139648547383068, 0.8139648547383068, 0.8139648547383068, 0.8139648547383068, 0.8149840084860376]}], \"f1_score_weighted\": [{\"categories\": [\"0\", \"1\", \"2\", \"3\", \"4\", \"5\", \"6\", \"7\", \"8\", \"9\", \"10\", \"11\", \"12\", \"13\", \"14\", \"15\", \"16\", \"17\", \"18\", \"19\", \"20\", \"21\", \"23\"], \"mode\": \"markers\", \"name\": \"f1_score_weighted\", \"stepped\": false, \"type\": \"scatter\", \"data\": [0.8656712943206099, 0.8539476327658383, 0.8220159835952187, 0.7145689917103502, 0.7575419652366868, 0.7549570096858998, 0.8538770095566045, 0.6860835836544421, 0.804192485501451, 0.8418536184849824, 0.7810909236174184, 0.7526413887803036, 0.8547417527629184, 0.8612587890816567, 0.7697572078806255, 0.7821917699305985, 0.6833199721880332, 0.8613892333959363, 0.7799215555350519, 0.8241217034310725, 0.7678918060093028, 0.8604053363579665, 0.8662950508304372]}, {\"categories\": [\"0\", \"1\", \"2\", \"3\", \"4\", \"5\", \"6\", \"7\", \"8\", \"9\", \"10\", \"11\", \"12\", \"13\", \"14\", \"15\", \"16\", \"17\", \"18\", \"19\", \"20\", \"21\", \"23\"], \"mode\": \"lines\", \"name\": \"f1_score_weighted_max\", \"stepped\": true, \"type\": \"scatter\", \"data\": [0.8656712943206099, 0.8656712943206099, 0.8656712943206099, 0.8656712943206099, 0.8656712943206099, 0.8656712943206099, 0.8656712943206099, 0.8656712943206099, 0.8656712943206099, 0.8656712943206099, 0.8656712943206099, 0.8656712943206099, 0.8656712943206099, 0.8656712943206099, 0.8656712943206099, 0.8656712943206099, 0.8656712943206099, 0.8656712943206099, 0.8656712943206099, 0.8656712943206099, 0.8656712943206099, 0.8656712943206099, 0.8662950508304372]}], \"balanced_accuracy\": [{\"categories\": [\"0\", \"1\", \"2\", \"3\", \"4\", \"5\", \"6\", \"7\", \"8\", \"9\", \"10\", \"11\", \"12\", \"13\", \"14\", \"15\", \"16\", \"17\", \"18\", \"19\", \"20\", \"21\", \"23\"], \"mode\": \"markers\", \"name\": \"balanced_accuracy\", \"stepped\": false, \"type\": \"scatter\", \"data\": [0.7980133812248903, 0.7679191878452731, 0.7151577520500448, 0.5647659349749157, 0.7797852790527312, 0.771781399804761, 0.7716354537823095, 0.534531262946602, 0.699087353828765, 0.7629253026396506, 0.6536072529356104, 0.6047210958529974, 0.7728953123981511, 0.7859693873266979, 0.6369509745933385, 0.6465642827609849, 0.5316368097519266, 0.7875806252863341, 0.6490984843267101, 0.7193552568376461, 0.7810602600163992, 0.7895209334405142, 0.7995596741075253]}, {\"categories\": [\"0\", \"1\", \"2\", \"3\", \"4\", \"5\", \"6\", \"7\", \"8\", \"9\", \"10\", \"11\", \"12\", \"13\", \"14\", \"15\", \"16\", \"17\", \"18\", \"19\", \"20\", \"21\", \"23\"], \"mode\": \"lines\", \"name\": \"balanced_accuracy_max\", \"stepped\": true, \"type\": \"scatter\", \"data\": [0.7980133812248903, 0.7980133812248903, 0.7980133812248903, 0.7980133812248903, 0.7980133812248903, 0.7980133812248903, 0.7980133812248903, 0.7980133812248903, 0.7980133812248903, 0.7980133812248903, 0.7980133812248903, 0.7980133812248903, 0.7980133812248903, 0.7980133812248903, 0.7980133812248903, 0.7980133812248903, 0.7980133812248903, 0.7980133812248903, 0.7980133812248903, 0.7980133812248903, 0.7980133812248903, 0.7980133812248903, 0.7995596741075253]}], \"average_precision_score_weighted\": [{\"categories\": [\"0\", \"1\", \"2\", \"3\", \"4\", \"5\", \"6\", \"7\", \"8\", \"9\", \"10\", \"11\", \"12\", \"13\", \"14\", \"15\", \"16\", \"17\", \"18\", \"19\", \"20\", \"21\", \"23\"], \"mode\": \"markers\", \"name\": \"average_precision_score_weighted\", \"stepped\": false, \"type\": \"scatter\", \"data\": [0.93851320468276, 0.9328750167323928, 0.9053753391417843, 0.8751144862101619, 0.8977188050958618, 0.8888899071074253, 0.9312021217749881, 0.8842251567942879, 0.8855334559488622, 0.9175629903809899, 0.8754057281584586, 0.8791953848032256, 0.9311857154665318, 0.9353022950549058, 0.8633045949028556, 0.8950673992987869, 0.8893392379414848, 0.9347123294759799, 0.8822808278777501, 0.9057017730081501, 0.873069257035533, 0.9343460652799395, 0.9363537028809693]}, {\"categories\": [\"0\", \"1\", \"2\", \"3\", \"4\", \"5\", \"6\", \"7\", \"8\", \"9\", \"10\", \"11\", \"12\", \"13\", \"14\", \"15\", \"16\", \"17\", \"18\", \"19\", \"20\", \"21\", \"23\"], \"mode\": \"lines\", \"name\": \"average_precision_score_weighted_max\", \"stepped\": true, \"type\": \"scatter\", \"data\": [0.93851320468276, 0.93851320468276, 0.93851320468276, 0.93851320468276, 0.93851320468276, 0.93851320468276, 0.93851320468276, 0.93851320468276, 0.93851320468276, 0.93851320468276, 0.93851320468276, 0.93851320468276, 0.93851320468276, 0.93851320468276, 0.93851320468276, 0.93851320468276, 0.93851320468276, 0.93851320468276, 0.93851320468276, 0.93851320468276, 0.93851320468276, 0.93851320468276, 0.93851320468276]}], \"recall_score_macro\": [{\"categories\": [\"0\", \"1\", \"2\", \"3\", \"4\", \"5\", \"6\", \"7\", \"8\", \"9\", \"10\", \"11\", \"12\", \"13\", \"14\", \"15\", \"16\", \"17\", \"18\", \"19\", \"20\", \"21\", \"23\"], \"mode\": \"markers\", \"name\": \"recall_score_macro\", \"stepped\": false, \"type\": \"scatter\", \"data\": [0.7980133812248903, 0.7679191878452731, 0.7151577520500448, 0.5647659349749157, 0.7797852790527312, 0.771781399804761, 0.7716354537823095, 0.534531262946602, 0.699087353828765, 0.7629253026396506, 0.6536072529356104, 0.6047210958529974, 0.7728953123981511, 0.7859693873266979, 0.6369509745933385, 0.6465642827609849, 0.5316368097519266, 0.7875806252863341, 0.6490984843267101, 0.7193552568376461, 0.7810602600163992, 0.7895209334405142, 0.7995596741075253]}, {\"categories\": [\"0\", \"1\", \"2\", \"3\", \"4\", \"5\", \"6\", \"7\", \"8\", \"9\", \"10\", \"11\", \"12\", \"13\", \"14\", \"15\", \"16\", \"17\", \"18\", \"19\", \"20\", \"21\", \"23\"], \"mode\": \"lines\", \"name\": \"recall_score_macro_max\", \"stepped\": true, \"type\": \"scatter\", \"data\": [0.7980133812248903, 0.7980133812248903, 0.7980133812248903, 0.7980133812248903, 0.7980133812248903, 0.7980133812248903, 0.7980133812248903, 0.7980133812248903, 0.7980133812248903, 0.7980133812248903, 0.7980133812248903, 0.7980133812248903, 0.7980133812248903, 0.7980133812248903, 0.7980133812248903, 0.7980133812248903, 0.7980133812248903, 0.7980133812248903, 0.7980133812248903, 0.7980133812248903, 0.7980133812248903, 0.7980133812248903, 0.7995596741075253]}], \"recall_score_micro\": [{\"categories\": [\"0\", \"1\", \"2\", \"3\", \"4\", \"5\", \"6\", \"7\", \"8\", \"9\", \"10\", \"11\", \"12\", \"13\", \"14\", \"15\", \"16\", \"17\", \"18\", \"19\", \"20\", \"21\", \"23\"], \"mode\": \"markers\", \"name\": \"recall_score_micro\", \"stepped\": false, \"type\": \"scatter\", \"data\": [0.8695234556942091, 0.8618786632698461, 0.8366816063423865, 0.7793281197550033, 0.7401099303017737, 0.7375387638378363, 0.8608159722376468, 0.7702096249294826, 0.8172094742733798, 0.847411696986084, 0.8066507032966187, 0.804045528858132, 0.8615700671665607, 0.8666437636390628, 0.8001373793839809, 0.8151870363152284, 0.7693867842514774, 0.8664380940140056, 0.8085364289150339, 0.8378128315874473, 0.751971665737388, 0.8647582671848966, 0.8699690779159716]}, {\"categories\": [\"0\", \"1\", \"2\", \"3\", \"4\", \"5\", \"6\", \"7\", \"8\", \"9\", \"10\", \"11\", \"12\", \"13\", \"14\", \"15\", \"16\", \"17\", \"18\", \"19\", \"20\", \"21\", \"23\"], \"mode\": \"lines\", \"name\": \"recall_score_micro_max\", \"stepped\": true, \"type\": \"scatter\", \"data\": [0.8695234556942091, 0.8695234556942091, 0.8695234556942091, 0.8695234556942091, 0.8695234556942091, 0.8695234556942091, 0.8695234556942091, 0.8695234556942091, 0.8695234556942091, 0.8695234556942091, 0.8695234556942091, 0.8695234556942091, 0.8695234556942091, 0.8695234556942091, 0.8695234556942091, 0.8695234556942091, 0.8695234556942091, 0.8695234556942091, 0.8695234556942091, 0.8695234556942091, 0.8695234556942091, 0.8695234556942091, 0.8699690779159716]}], \"precision_score_macro\": [{\"categories\": [\"0\", \"1\", \"2\", \"3\", \"4\", \"5\", \"6\", \"7\", \"8\", \"9\", \"10\", \"11\", \"12\", \"13\", \"14\", \"15\", \"16\", \"17\", \"18\", \"19\", \"20\", \"21\", \"23\"], \"mode\": \"markers\", \"name\": \"precision_score_macro\", \"stepped\": false, \"type\": \"scatter\", \"data\": [0.8356567817848645, 0.8380264919595737, 0.810614526162109, 0.794080177961911, 0.7111385616988901, 0.7058851381474641, 0.832127276799912, 0.8566399286274294, 0.7660364853153178, 0.8044930512580238, 0.767972337495256, 0.8766313946116805, 0.8332319609792324, 0.8365419077027205, 0.7619178657955906, 0.8203337578645987, 0.870977312370315, 0.8348792994217886, 0.7817683626281049, 0.8098331127703756, 0.715269198268215, 0.8295644646483681, 0.8356096327464774]}, {\"categories\": [\"0\", \"1\", \"2\", \"3\", \"4\", \"5\", \"6\", \"7\", \"8\", \"9\", \"10\", \"11\", \"12\", \"13\", \"14\", \"15\", \"16\", \"17\", \"18\", \"19\", \"20\", \"21\", \"23\"], \"mode\": \"lines\", \"name\": \"precision_score_macro_max\", \"stepped\": true, \"type\": \"scatter\", \"data\": [0.8356567817848645, 0.8380264919595737, 0.8380264919595737, 0.8380264919595737, 0.8380264919595737, 0.8380264919595737, 0.8380264919595737, 0.8566399286274294, 0.8566399286274294, 0.8566399286274294, 0.8566399286274294, 0.8766313946116805, 0.8766313946116805, 0.8766313946116805, 0.8766313946116805, 0.8766313946116805, 0.8766313946116805, 0.8766313946116805, 0.8766313946116805, 0.8766313946116805, 0.8766313946116805, 0.8766313946116805, 0.8766313946116805]}], \"weighted_accuracy\": [{\"categories\": [\"0\", \"1\", \"2\", \"3\", \"4\", \"5\", \"6\", \"7\", \"8\", \"9\", \"10\", \"11\", \"12\", \"13\", \"14\", \"15\", \"16\", \"17\", \"18\", \"19\", \"20\", \"21\", \"23\"], \"mode\": \"markers\", \"name\": \"weighted_accuracy\", \"stepped\": false, \"type\": \"scatter\", \"data\": [0.9116625820360577, 0.9172290909342146, 0.9082977450388835, 0.9055910959580477, 0.716657175669411, 0.7173537268811403, 0.9133846777743249, 0.9091159670712236, 0.8867844242130455, 0.8971824121249633, 0.8967807159551832, 0.9214676805202274, 0.9138336669655317, 0.9141699653749334, 0.8963249384439577, 0.9145492615489443, 0.9094665001220341, 0.912896206913568, 0.9025165584349778, 0.9075955077067315, 0.7346797226777131, 0.9090843425000479, 0.9114374280652285]}, {\"categories\": [\"0\", \"1\", \"2\", \"3\", \"4\", \"5\", \"6\", \"7\", \"8\", \"9\", \"10\", \"11\", \"12\", \"13\", \"14\", \"15\", \"16\", \"17\", \"18\", \"19\", \"20\", \"21\", \"23\"], \"mode\": \"lines\", \"name\": \"weighted_accuracy_max\", \"stepped\": true, \"type\": \"scatter\", \"data\": [0.9116625820360577, 0.9172290909342146, 0.9172290909342146, 0.9172290909342146, 0.9172290909342146, 0.9172290909342146, 0.9172290909342146, 0.9172290909342146, 0.9172290909342146, 0.9172290909342146, 0.9172290909342146, 0.9214676805202274, 0.9214676805202274, 0.9214676805202274, 0.9214676805202274, 0.9214676805202274, 0.9214676805202274, 0.9214676805202274, 0.9214676805202274, 0.9214676805202274, 0.9214676805202274, 0.9214676805202274, 0.9214676805202274]}], \"f1_score_micro\": [{\"categories\": [\"0\", \"1\", \"2\", \"3\", \"4\", \"5\", \"6\", \"7\", \"8\", \"9\", \"10\", \"11\", \"12\", \"13\", \"14\", \"15\", \"16\", \"17\", \"18\", \"19\", \"20\", \"21\", \"23\"], \"mode\": \"markers\", \"name\": \"f1_score_micro\", \"stepped\": false, \"type\": \"scatter\", \"data\": [0.8695234556942091, 0.8618786632698461, 0.8366816063423865, 0.7793281197550033, 0.7401099303017739, 0.7375387638378363, 0.8608159722376468, 0.7702096249294826, 0.8172094742733798, 0.847411696986084, 0.8066507032966186, 0.804045528858132, 0.8615700671665606, 0.8666437636390628, 0.8001373793839809, 0.8151870363152285, 0.7693867842514774, 0.8664380940140056, 0.8085364289150339, 0.8378128315874473, 0.7519716657373879, 0.8647582671848966, 0.8699690779159717]}, {\"categories\": [\"0\", \"1\", \"2\", \"3\", \"4\", \"5\", \"6\", \"7\", \"8\", \"9\", \"10\", \"11\", \"12\", \"13\", \"14\", \"15\", \"16\", \"17\", \"18\", \"19\", \"20\", \"21\", \"23\"], \"mode\": \"lines\", \"name\": \"f1_score_micro_max\", \"stepped\": true, \"type\": \"scatter\", \"data\": [0.8695234556942091, 0.8695234556942091, 0.8695234556942091, 0.8695234556942091, 0.8695234556942091, 0.8695234556942091, 0.8695234556942091, 0.8695234556942091, 0.8695234556942091, 0.8695234556942091, 0.8695234556942091, 0.8695234556942091, 0.8695234556942091, 0.8695234556942091, 0.8695234556942091, 0.8695234556942091, 0.8695234556942091, 0.8695234556942091, 0.8695234556942091, 0.8695234556942091, 0.8695234556942091, 0.8695234556942091, 0.8699690779159717]}], \"AUC_weighted\": [{\"categories\": [\"0\", \"1\", \"2\", \"3\", \"4\", \"5\", \"6\", \"7\", \"8\", \"9\", \"10\", \"11\", \"12\", \"13\", \"14\", \"15\", \"16\", \"17\", \"18\", \"19\", \"20\", \"21\", \"23\"], \"mode\": \"markers\", \"name\": \"AUC_weighted\", \"stepped\": false, \"type\": \"scatter\", \"data\": [0.9268582747567339, 0.9193192227742996, 0.8892515927725683, 0.8571768582526976, 0.8790508608189112, 0.8669740029001572, 0.9177760097886803, 0.8637066018857875, 0.8658414370456872, 0.9051735108239893, 0.859453397421086, 0.8648221003307865, 0.9171801381312267, 0.9226062628416946, 0.843784448027963, 0.876947815919817, 0.870660128318906, 0.9219425286230166, 0.8633897371388451, 0.8857018671323585, 0.8606777719929384, 0.9217422387416802, 0.923689108365831]}, {\"categories\": [\"0\", \"1\", \"2\", \"3\", \"4\", \"5\", \"6\", \"7\", \"8\", \"9\", \"10\", \"11\", \"12\", \"13\", \"14\", \"15\", \"16\", \"17\", \"18\", \"19\", \"20\", \"21\", \"23\"], \"mode\": \"lines\", \"name\": \"AUC_weighted_max\", \"stepped\": true, \"type\": \"scatter\", \"data\": [0.9268582747567339, 0.9268582747567339, 0.9268582747567339, 0.9268582747567339, 0.9268582747567339, 0.9268582747567339, 0.9268582747567339, 0.9268582747567339, 0.9268582747567339, 0.9268582747567339, 0.9268582747567339, 0.9268582747567339, 0.9268582747567339, 0.9268582747567339, 0.9268582747567339, 0.9268582747567339, 0.9268582747567339, 0.9268582747567339, 0.9268582747567339, 0.9268582747567339, 0.9268582747567339, 0.9268582747567339, 0.9268582747567339]}], \"accuracy\": [{\"categories\": [\"0\", \"1\", \"2\", \"3\", \"4\", \"5\", \"6\", \"7\", \"8\", \"9\", \"10\", \"11\", \"12\", \"13\", \"14\", \"15\", \"16\", \"17\", \"18\", \"19\", \"20\", \"21\", \"23\"], \"mode\": \"markers\", \"name\": \"accuracy\", \"stepped\": false, \"type\": \"scatter\", \"data\": [0.8695234556942091, 0.8618786632698461, 0.8366816063423865, 0.7793281197550033, 0.7401099303017737, 0.7375387638378363, 0.8608159722376468, 0.7702096249294826, 0.8172094742733798, 0.847411696986084, 0.8066507032966187, 0.804045528858132, 0.8615700671665607, 0.8666437636390628, 0.8001373793839809, 0.8151870363152284, 0.7693867842514774, 0.8664380940140056, 0.8085364289150339, 0.8378128315874473, 0.751971665737388, 0.8647582671848966, 0.8699690779159716]}, {\"categories\": [\"0\", \"1\", \"2\", \"3\", \"4\", \"5\", \"6\", \"7\", \"8\", \"9\", \"10\", \"11\", \"12\", \"13\", \"14\", \"15\", \"16\", \"17\", \"18\", \"19\", \"20\", \"21\", \"23\"], \"mode\": \"lines\", \"name\": \"accuracy_max\", \"stepped\": true, \"type\": \"scatter\", \"data\": [0.8695234556942091, 0.8695234556942091, 0.8695234556942091, 0.8695234556942091, 0.8695234556942091, 0.8695234556942091, 0.8695234556942091, 0.8695234556942091, 0.8695234556942091, 0.8695234556942091, 0.8695234556942091, 0.8695234556942091, 0.8695234556942091, 0.8695234556942091, 0.8695234556942091, 0.8695234556942091, 0.8695234556942091, 0.8695234556942091, 0.8695234556942091, 0.8695234556942091, 0.8695234556942091, 0.8695234556942091, 0.8699690779159716]}], \"precision_score_weighted\": [{\"categories\": [\"0\", \"1\", \"2\", \"3\", \"4\", \"5\", \"6\", \"7\", \"8\", \"9\", \"10\", \"11\", \"12\", \"13\", \"14\", \"15\", \"16\", \"17\", \"18\", \"19\", \"20\", \"21\", \"23\"], \"mode\": \"markers\", \"name\": \"precision_score_weighted\", \"stepped\": false, \"type\": \"scatter\", \"data\": [0.8652358587245134, 0.8569945388170188, 0.8298783762459966, 0.7867399301834296, 0.8265768940265436, 0.8201503364508421, 0.8555109554513303, 0.8113525497353408, 0.8051280998609015, 0.8409733629041815, 0.7940377582553323, 0.8353398192542866, 0.856421550277957, 0.8618070252678679, 0.7870701350721013, 0.8172958917540966, 0.8176656369841958, 0.8615918506563398, 0.7994151384889637, 0.8306016911215698, 0.8257966289879031, 0.8599607988934569, 0.8657169882214374]}, {\"categories\": [\"0\", \"1\", \"2\", \"3\", \"4\", \"5\", \"6\", \"7\", \"8\", \"9\", \"10\", \"11\", \"12\", \"13\", \"14\", \"15\", \"16\", \"17\", \"18\", \"19\", \"20\", \"21\", \"23\"], \"mode\": \"lines\", \"name\": \"precision_score_weighted_max\", \"stepped\": true, \"type\": \"scatter\", \"data\": [0.8652358587245134, 0.8652358587245134, 0.8652358587245134, 0.8652358587245134, 0.8652358587245134, 0.8652358587245134, 0.8652358587245134, 0.8652358587245134, 0.8652358587245134, 0.8652358587245134, 0.8652358587245134, 0.8652358587245134, 0.8652358587245134, 0.8652358587245134, 0.8652358587245134, 0.8652358587245134, 0.8652358587245134, 0.8652358587245134, 0.8652358587245134, 0.8652358587245134, 0.8652358587245134, 0.8652358587245134, 0.8657169882214374]}], \"matthews_correlation\": [{\"categories\": [\"0\", \"1\", \"2\", \"3\", \"4\", \"5\", \"6\", \"7\", \"8\", \"9\", \"10\", \"11\", \"12\", \"13\", \"14\", \"15\", \"16\", \"17\", \"18\", \"19\", \"20\", \"21\", \"23\"], \"mode\": \"markers\", \"name\": \"matthews_correlation\", \"stepped\": false, \"type\": \"scatter\", \"data\": [0.6325262182949574, 0.6018662092503706, 0.5168550563359731, 0.2651048251896464, 0.48609693994714814, 0.47309030717803124, 0.6006854095902597, 0.2171425695448026, 0.46027102618403487, 0.5658797991752479, 0.4057055118752369, 0.39699343786009494, 0.6030685503442834, 0.6204357879083057, 0.37835914431791434, 0.43325054623062526, 0.2150197335445597, 0.620646684489838, 0.40976295634131676, 0.5213463944324509, 0.49194568587707216, 0.6177747589858518, 0.6341383062951768]}, {\"categories\": [\"0\", \"1\", \"2\", \"3\", \"4\", \"5\", \"6\", \"7\", \"8\", \"9\", \"10\", \"11\", \"12\", \"13\", \"14\", \"15\", \"16\", \"17\", \"18\", \"19\", \"20\", \"21\", \"23\"], \"mode\": \"lines\", \"name\": \"matthews_correlation_max\", \"stepped\": true, \"type\": \"scatter\", \"data\": [0.6325262182949574, 0.6325262182949574, 0.6325262182949574, 0.6325262182949574, 0.6325262182949574, 0.6325262182949574, 0.6325262182949574, 0.6325262182949574, 0.6325262182949574, 0.6325262182949574, 0.6325262182949574, 0.6325262182949574, 0.6325262182949574, 0.6325262182949574, 0.6325262182949574, 0.6325262182949574, 0.6325262182949574, 0.6325262182949574, 0.6325262182949574, 0.6325262182949574, 0.6325262182949574, 0.6325262182949574, 0.6341383062951768]}], \"AUC_micro\": [{\"categories\": [\"0\", \"1\", \"2\", \"3\", \"4\", \"5\", \"6\", \"7\", \"8\", \"9\", \"10\", \"11\", \"12\", \"13\", \"14\", \"15\", \"16\", \"17\", \"18\", \"19\", \"20\", \"21\", \"23\"], \"mode\": \"markers\", \"name\": \"AUC_micro\", \"stepped\": false, \"type\": \"scatter\", \"data\": [0.9500581826928024, 0.9450234330376436, 0.9209772402845983, 0.8897988219742716, 0.8654993817369304, 0.862862218009933, 0.9443584066234303, 0.8898624401692087, 0.9076716152502095, 0.9339581994796383, 0.9004676360704771, 0.9083073045419985, 0.944170467538778, 0.9474076212816698, 0.8913806616281597, 0.9055914644469473, 0.8920654352817511, 0.9469369718338182, 0.8987526318767612, 0.9213129077811858, 0.8474316865777777, 0.9467260820554291, 0.9481500296747504]}, {\"categories\": [\"0\", \"1\", \"2\", \"3\", \"4\", \"5\", \"6\", \"7\", \"8\", \"9\", \"10\", \"11\", \"12\", \"13\", \"14\", \"15\", \"16\", \"17\", \"18\", \"19\", \"20\", \"21\", \"23\"], \"mode\": \"lines\", \"name\": \"AUC_micro_max\", \"stepped\": true, \"type\": \"scatter\", \"data\": [0.9500581826928024, 0.9500581826928024, 0.9500581826928024, 0.9500581826928024, 0.9500581826928024, 0.9500581826928024, 0.9500581826928024, 0.9500581826928024, 0.9500581826928024, 0.9500581826928024, 0.9500581826928024, 0.9500581826928024, 0.9500581826928024, 0.9500581826928024, 0.9500581826928024, 0.9500581826928024, 0.9500581826928024, 0.9500581826928024, 0.9500581826928024, 0.9500581826928024, 0.9500581826928024, 0.9500581826928024, 0.9500581826928024]}], \"log_loss\": [{\"categories\": [\"0\", \"1\", \"2\", \"3\", \"4\", \"5\", \"6\", \"7\", \"8\", \"9\", \"10\", \"11\", \"12\", \"13\", \"14\", \"15\", \"16\", \"17\", \"18\", \"19\", \"20\", \"21\", \"23\"], \"mode\": \"markers\", \"name\": \"log_loss\", \"stepped\": false, \"type\": \"scatter\", \"data\": [0.2830923241778873, 0.3010533316688126, 0.36533051198651445, 0.4248901538543304, 0.4681006613109789, 0.49502370405445834, 0.31490029607432235, 0.42868488830002044, 0.38611902086423383, 0.3243467126680509, 0.3979349960361815, 0.4612681164842689, 0.31478359004600365, 0.2916786997209093, 0.41415115969674643, 0.40535566579475574, 0.4496685828136353, 0.2928766095403071, 0.40544685290878163, 0.36150371552041527, 0.5146164493244312, 0.2930779537784971, 0.31166978682736307]}, {\"categories\": [\"0\", \"1\", \"2\", \"3\", \"4\", \"5\", \"6\", \"7\", \"8\", \"9\", \"10\", \"11\", \"12\", \"13\", \"14\", \"15\", \"16\", \"17\", \"18\", \"19\", \"20\", \"21\", \"23\"], \"mode\": \"lines\", \"name\": \"log_loss_min\", \"stepped\": true, \"type\": \"scatter\", \"data\": [0.2830923241778873, 0.2830923241778873, 0.2830923241778873, 0.2830923241778873, 0.2830923241778873, 0.2830923241778873, 0.2830923241778873, 0.2830923241778873, 0.2830923241778873, 0.2830923241778873, 0.2830923241778873, 0.2830923241778873, 0.2830923241778873, 0.2830923241778873, 0.2830923241778873, 0.2830923241778873, 0.2830923241778873, 0.2830923241778873, 0.2830923241778873, 0.2830923241778873, 0.2830923241778873, 0.2830923241778873, 0.2830923241778873]}]}, \"metricName\": null, \"primaryMetricName\": \"accuracy\", \"showLegend\": false}, \"run_metrics\": [{\"name\": \"experiment_status\", \"run_id\": \"AutoML_0cd3151f-aa61-46db-8ff7-6c623baed449\", \"categories\": [0, 1, 2, 3, 4, 5, 6, 7, 8, 9, 10, 11, 12, 13], \"series\": [{\"data\": [\"DatasetEvaluation\", \"FeaturesGeneration\", \"DatasetFeaturization\", \"DatasetFeaturizationCompleted\", \"DatasetCrossValidationSplit\", \"ModelSelection\", \"BestRunExplainModel\", \"ModelExplanationDataSetSetup\", \"PickSurrogateModel\", \"EngineeredFeatureExplanations\", \"EngineeredFeatureExplanations\", \"RawFeaturesExplanations\", \"RawFeaturesExplanations\", \"BestRunExplainModel\"]}]}, {\"name\": \"experiment_status_description\", \"run_id\": \"AutoML_0cd3151f-aa61-46db-8ff7-6c623baed449\", \"categories\": [0, 1, 2, 3, 4, 5, 6, 7, 8, 9, 10, 11, 12, 13], \"series\": [{\"data\": [\"Gathering dataset statistics.\", \"Generating features for the dataset.\", \"Beginning to fit featurizers and featurize the dataset.\", \"Completed fit featurizers and featurizing the dataset.\", \"Generating individually featurized CV splits.\", \"Beginning model selection.\", \"Best run model explanations started\", \"Model explanations data setup completed\", \"Choosing LightGBM as the surrogate model for explanations\", \"Computation of engineered features started\", \"Computation of engineered features completed\", \"Computation of raw features started\", \"Computation of raw features completed\", \"Best run model explanations completed\"]}]}, {\"name\": \"average_precision_score_macro\", \"run_id\": \"AutoML_0cd3151f-aa61-46db-8ff7-6c623baed449\", \"categories\": [0], \"series\": [{\"data\": [0.8984269072518346]}]}, {\"name\": \"balanced_accuracy\", \"run_id\": \"AutoML_0cd3151f-aa61-46db-8ff7-6c623baed449\", \"categories\": [0], \"series\": [{\"data\": [0.7995596741075253]}]}, {\"name\": \"norm_macro_recall\", \"run_id\": \"AutoML_0cd3151f-aa61-46db-8ff7-6c623baed449\", \"categories\": [0], \"series\": [{\"data\": [0.5991193482150504]}]}, {\"name\": \"matthews_correlation\", \"run_id\": \"AutoML_0cd3151f-aa61-46db-8ff7-6c623baed449\", \"categories\": [0], \"series\": [{\"data\": [0.6341383062951768]}]}, {\"name\": \"precision_score_micro\", \"run_id\": \"AutoML_0cd3151f-aa61-46db-8ff7-6c623baed449\", \"categories\": [0], \"series\": [{\"data\": [0.8699690779159716]}]}, {\"name\": \"f1_score_macro\", \"run_id\": \"AutoML_0cd3151f-aa61-46db-8ff7-6c623baed449\", \"categories\": [0], \"series\": [{\"data\": [0.8149840084860376]}]}, {\"name\": \"f1_score_micro\", \"run_id\": \"AutoML_0cd3151f-aa61-46db-8ff7-6c623baed449\", \"categories\": [0], \"series\": [{\"data\": [0.8699690779159717]}]}, {\"name\": \"AUC_macro\", \"run_id\": \"AutoML_0cd3151f-aa61-46db-8ff7-6c623baed449\", \"categories\": [0], \"series\": [{\"data\": [0.923689108365831]}]}, {\"name\": \"AUC_weighted\", \"run_id\": \"AutoML_0cd3151f-aa61-46db-8ff7-6c623baed449\", \"categories\": [0], \"series\": [{\"data\": [0.923689108365831]}]}, {\"name\": \"average_precision_score_micro\", \"run_id\": \"AutoML_0cd3151f-aa61-46db-8ff7-6c623baed449\", \"categories\": [0], \"series\": [{\"data\": [0.9498841141891488]}]}, {\"name\": \"log_loss\", \"run_id\": \"AutoML_0cd3151f-aa61-46db-8ff7-6c623baed449\", \"categories\": [0], \"series\": [{\"data\": [0.31166978682736307]}]}, {\"name\": \"recall_score_weighted\", \"run_id\": \"AutoML_0cd3151f-aa61-46db-8ff7-6c623baed449\", \"categories\": [0], \"series\": [{\"data\": [0.8699690779159716]}]}, {\"name\": \"precision_score_macro\", \"run_id\": \"AutoML_0cd3151f-aa61-46db-8ff7-6c623baed449\", \"categories\": [0], \"series\": [{\"data\": [0.8356096327464774]}]}, {\"name\": \"average_precision_score_weighted\", \"run_id\": \"AutoML_0cd3151f-aa61-46db-8ff7-6c623baed449\", \"categories\": [0], \"series\": [{\"data\": [0.9363537028809693]}]}, {\"name\": \"recall_score_micro\", \"run_id\": \"AutoML_0cd3151f-aa61-46db-8ff7-6c623baed449\", \"categories\": [0], \"series\": [{\"data\": [0.8699690779159716]}]}, {\"name\": \"AUC_micro\", \"run_id\": \"AutoML_0cd3151f-aa61-46db-8ff7-6c623baed449\", \"categories\": [0], \"series\": [{\"data\": [0.9481500296747504]}]}, {\"name\": \"recall_score_macro\", \"run_id\": \"AutoML_0cd3151f-aa61-46db-8ff7-6c623baed449\", \"categories\": [0], \"series\": [{\"data\": [0.7995596741075253]}]}, {\"name\": \"weighted_accuracy\", \"run_id\": \"AutoML_0cd3151f-aa61-46db-8ff7-6c623baed449\", \"categories\": [0], \"series\": [{\"data\": [0.9114374280652285]}]}, {\"name\": \"accuracy\", \"run_id\": \"AutoML_0cd3151f-aa61-46db-8ff7-6c623baed449\", \"categories\": [0], \"series\": [{\"data\": [0.8699690779159716]}]}, {\"name\": \"precision_score_weighted\", \"run_id\": \"AutoML_0cd3151f-aa61-46db-8ff7-6c623baed449\", \"categories\": [0], \"series\": [{\"data\": [0.8657169882214374]}]}, {\"name\": \"f1_score_weighted\", \"run_id\": \"AutoML_0cd3151f-aa61-46db-8ff7-6c623baed449\", \"categories\": [0], \"series\": [{\"data\": [0.8662950508304372]}]}], \"run_logs\": \"\\nRun is completed.\", \"graph\": {}, \"widget_settings\": {\"childWidgetDisplay\": \"popup\", \"send_telemetry\": false, \"log_level\": \"INFO\", \"sdk_version\": \"1.28.0\"}, \"loading\": false}"
     },
     "metadata": {},
     "output_type": "display_data"
    }
   ],
   "source": [
    "from azureml.widgets import RunDetails\n",
    "RunDetails(automl_run).show()"
   ]
  },
  {
   "cell_type": "markdown",
   "metadata": {},
   "source": [
    "### Best Model"
   ]
  },
  {
   "cell_type": "code",
   "execution_count": 15,
   "metadata": {},
   "outputs": [],
   "source": [
    "import azureml.train.automl\n",
    "\n",
    "import azureml.automl.core\n",
    "from azureml.automl.runtime.onnx_convert import OnnxConverter\n",
    "\n",
    "best_automl_run, best_automl_onnx_model = automl_run.get_output(return_onnx_model = True)\n",
    "OnnxConverter.save_onnx_model(best_automl_onnx_model, file_path = 'outputs/best_automl_model.onnx')"
   ]
  },
  {
   "cell_type": "markdown",
   "metadata": {},
   "source": [
    "## Model Deployment\n",
    "\n",
    "Remember you have to deploy only one of the two models you trained.. Perform the steps in the rest of this notebook only if you wish to deploy this model."
   ]
  },
  {
   "cell_type": "code",
   "execution_count": 20,
   "metadata": {},
   "outputs": [
    {
     "name": "stdout",
     "output_type": "stream",
     "text": [
      "b'\"{\\\\\"result\\\\\": [\\\\\" <=50K\\\\\", \\\\\" <=50K\\\\\"]}\"'\n"
     ]
    }
   ],
   "source": [
    "import urllib.request\n",
    "import json\n",
    "import os\n",
    "import ssl\n",
    "\n",
    "def allowSelfSignedHttps(allowed):\n",
    "    # bypass the server certificate verification on client side\n",
    "    if allowed and not os.environ.get('PYTHONHTTPSVERIFY', '') and getattr(ssl, '_create_unverified_context', None):\n",
    "        ssl._create_default_https_context = ssl._create_unverified_context\n",
    "\n",
    "allowSelfSignedHttps(True) # this line is needed if you use self-signed certificate in your scoring service.\n",
    "\n",
    "\n",
    "# two sets of data to score\n",
    "data = {\"data\":\n",
    "        [\n",
    "          {\n",
    "            \"age\": 40,\n",
    "            \"workclass\": \"private\",\n",
    "            \"education\": \"Bachelors\",\n",
    "            \"education-num.\": 12,\n",
    "            \"marital-status\": \"Divorced\",\n",
    "            \"occupation\": \"Exec-managerial\",\n",
    "            \"relationship\": \"Unmarried\",\n",
    "            \"sex\": \"Male\",\n",
    "            \"capital-gain\": 2000,\n",
    "            \"capital-loss\": 0,\n",
    "            \"hours-per-week\": 45,\n",
    "            \"native-country\": \"United-States\"\n",
    "          },\n",
    "          {\n",
    "            \"age\": 28,\n",
    "            \"workclass\": \"state-gove\",\n",
    "            \"education\": \"HS-grad\",\n",
    "            \"education-num.\": 9,\n",
    "            \"marital-status\": \"Never-married\",\n",
    "            \"occupation\": \"Machine-op-inspct\",\n",
    "            \"relationship\": \"Unmarried\",\n",
    "            \"sex\": \"Male\",\n",
    "            \"capital-gain\": 2000,\n",
    "            \"capital-loss\": 0,\n",
    "            \"hours-per-week\": 45,\n",
    "            \"native-country\": \"United-States\"\n",
    "          },\n",
    "      ]\n",
    "    }\n",
    "\n",
    "\n",
    "body = str.encode(json.dumps(data))\n",
    "\n",
    "url = 'http://6f92a511-6247-4ca0-8e68-0fb9caa1b2b9.southcentralus.azurecontainer.io/score'\n",
    "api_key = 'Ptv8wKeDcTKCod1qO02pyaJRxZqksGf2' # Replace this with the API key for the web service\n",
    "headers = {'Content-Type':'application/json', 'Authorization':('Bearer '+ api_key)}\n",
    "\n",
    "req = urllib.request.Request(url, body, headers)\n",
    "\n",
    "try:\n",
    "    response = urllib.request.urlopen(req)\n",
    "\n",
    "    result = response.read()\n",
    "    print(result)\n",
    "except urllib.error.HTTPError as error:\n",
    "    print(\"The request failed with status code: \" + str(error.code))\n",
    "\n",
    "    # Print the headers - they include the requert ID and the timestamp, which are useful for debugging the failure\n",
    "    print(error.info())\n",
    "    print(json.loads(error.read().decode(\"utf8\", 'ignore')))"
   ]
  },
  {
   "cell_type": "code",
   "execution_count": null,
   "metadata": {},
   "outputs": [],
   "source": []
  }
 ],
 "metadata": {
  "kernel_info": {
   "name": "python3"
  },
  "kernelspec": {
   "display_name": "Python 3",
   "language": "python",
   "name": "python3"
  },
  "language_info": {
   "codemirror_mode": {
    "name": "ipython",
    "version": 3
   },
   "file_extension": ".py",
   "mimetype": "text/x-python",
   "name": "python",
   "nbconvert_exporter": "python",
   "pygments_lexer": "ipython3",
   "version": "3.6.9"
  },
  "nteract": {
   "version": "nteract-front-end@1.0.0"
  }
 },
 "nbformat": 4,
 "nbformat_minor": 2
}
