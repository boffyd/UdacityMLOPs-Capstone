{
 "cells": [
  {
   "cell_type": "markdown",
   "metadata": {},
   "source": [
    "## AutoML"
   ]
  },
  {
   "cell_type": "code",
   "execution_count": 17,
   "metadata": {
    "gather": {
     "logged": 1616826843997
    }
   },
   "outputs": [],
   "source": [
    "from azureml.data.dataset_factory import TabularDatasetFactory\n",
    "import pandas as pd\n",
    "\n",
    "\n",
    "# Create TabularDataset using TabularDatasetFactory\n",
    "\n",
    "#  path to URL \n",
    "url = \"https://archive.ics.uci.edu/ml/machine-learning-databases/adult/adult.data\""
   ]
  },
  {
   "cell_type": "code",
   "execution_count": 14,
   "metadata": {},
   "outputs": [
    {
     "data": {
      "text/plain": [
       "'https://archive.ics.uci.edu/ml/machine-learning-databases/adult/adult.data'"
      ]
     },
     "execution_count": 14,
     "metadata": {},
     "output_type": "execute_result"
    }
   ],
   "source": [
    "ds = TabularDatasetFactory.from_delimited_files(url)"
   ]
  },
  {
   "cell_type": "code",
   "execution_count": 18,
   "metadata": {},
   "outputs": [],
   "source": [
    "#  read remote URL data to DataFrame\n",
    "ds = TabularDatasetFactory.from_delimited_files(url,header = False)"
   ]
  },
  {
   "cell_type": "code",
   "execution_count": 19,
   "metadata": {
    "gather": {
     "logged": 1616827026535
    },
    "jupyter": {
     "outputs_hidden": false,
     "source_hidden": false
    },
    "nteract": {
     "transient": {
      "deleting": false
     }
    }
   },
   "outputs": [
    {
     "ename": "UserErrorException",
     "evalue": "UserErrorException:\n\tMessage: Invalid argument type for `path`. It can be single value or a list of: string starting with \"http://\" or \"https://\", `azureml.data.datapath.DataPath` object, or tuple of `azureml.core.Datastore` object and string for relative path in the datastore.Url of blob can't contains SAS token, please use datastore instead.\n\tInnerException None\n\tErrorResponse \n{\n    \"error\": {\n        \"code\": \"UserError\",\n        \"message\": \"Invalid argument type for `path`. It can be single value or a list of: string starting with \\\"http://\\\" or \\\"https://\\\", `azureml.data.datapath.DataPath` object, or tuple of `azureml.core.Datastore` object and string for relative path in the datastore.Url of blob can't contains SAS token, please use datastore instead.\"\n    }\n}",
     "output_type": "error",
     "traceback": [
      "\u001b[0;31m---------------------------------------------------------------------------\u001b[0m",
      "\u001b[0;31mUserErrorException\u001b[0m                        Traceback (most recent call last)",
      "\u001b[0;32m<ipython-input-19-3798c75d9f04>\u001b[0m in \u001b[0;36m<module>\u001b[0;34m\u001b[0m\n\u001b[0;32m----> 1\u001b[0;31m \u001b[0;32mfrom\u001b[0m \u001b[0mtrain\u001b[0m \u001b[0;32mimport\u001b[0m \u001b[0mclean_data\u001b[0m\u001b[0;34m\u001b[0m\u001b[0;34m\u001b[0m\u001b[0m\n\u001b[0m\u001b[1;32m      2\u001b[0m \u001b[0;32mfrom\u001b[0m \u001b[0msklearn\u001b[0m\u001b[0;34m.\u001b[0m\u001b[0mmodel_selection\u001b[0m \u001b[0;32mimport\u001b[0m \u001b[0mtrain_test_split\u001b[0m\u001b[0;34m\u001b[0m\u001b[0;34m\u001b[0m\u001b[0m\n\u001b[1;32m      3\u001b[0m \u001b[0;34m\u001b[0m\u001b[0m\n\u001b[1;32m      4\u001b[0m \u001b[0;31m# Use the clean_data function to clean your data.\u001b[0m\u001b[0;34m\u001b[0m\u001b[0;34m\u001b[0m\u001b[0;34m\u001b[0m\u001b[0m\n\u001b[1;32m      5\u001b[0m \u001b[0mx\u001b[0m\u001b[0;34m,\u001b[0m \u001b[0my\u001b[0m \u001b[0;34m=\u001b[0m \u001b[0mclean_data\u001b[0m\u001b[0;34m(\u001b[0m\u001b[0mds\u001b[0m\u001b[0;34m)\u001b[0m\u001b[0;34m\u001b[0m\u001b[0;34m\u001b[0m\u001b[0m\n",
      "\u001b[0;32m/mnt/batch/tasks/shared/LS_root/mounts/clusters/computeml/code/Users/odl_user_146291/train.py\u001b[0m in \u001b[0;36m<module>\u001b[0;34m\u001b[0m\n\u001b[1;32m     75\u001b[0m \u001b[0;34m\u001b[0m\u001b[0m\n\u001b[1;32m     76\u001b[0m \u001b[0;31m#  read remote URL data to DataFrame\u001b[0m\u001b[0;34m\u001b[0m\u001b[0;34m\u001b[0m\u001b[0;34m\u001b[0m\u001b[0m\n\u001b[0;32m---> 77\u001b[0;31m \u001b[0mds\u001b[0m \u001b[0;34m=\u001b[0m \u001b[0mTabularDatasetFactory\u001b[0m\u001b[0;34m.\u001b[0m\u001b[0mfrom_delimited_files\u001b[0m\u001b[0;34m(\u001b[0m\u001b[0murl\u001b[0m\u001b[0;34m)\u001b[0m\u001b[0;34m\u001b[0m\u001b[0;34m\u001b[0m\u001b[0m\n\u001b[0m\u001b[1;32m     78\u001b[0m \u001b[0;34m\u001b[0m\u001b[0m\n\u001b[1;32m     79\u001b[0m \u001b[0;31m# clean data and create x and y sets\u001b[0m\u001b[0;34m\u001b[0m\u001b[0;34m\u001b[0m\u001b[0;34m\u001b[0m\u001b[0m\n",
      "\u001b[0;32m/anaconda/envs/azureml_py36/lib/python3.6/site-packages/azureml/data/_loggerfactory.py\u001b[0m in \u001b[0;36mwrapper\u001b[0;34m(*args, **kwargs)\u001b[0m\n\u001b[1;32m    127\u001b[0m             \u001b[0;32mwith\u001b[0m \u001b[0m_LoggerFactory\u001b[0m\u001b[0;34m.\u001b[0m\u001b[0mtrack_activity\u001b[0m\u001b[0;34m(\u001b[0m\u001b[0mlogger\u001b[0m\u001b[0;34m,\u001b[0m \u001b[0mfunc\u001b[0m\u001b[0;34m.\u001b[0m\u001b[0m__name__\u001b[0m\u001b[0;34m,\u001b[0m \u001b[0mactivity_type\u001b[0m\u001b[0;34m,\u001b[0m \u001b[0mcustom_dimensions\u001b[0m\u001b[0;34m)\u001b[0m \u001b[0;32mas\u001b[0m \u001b[0mal\u001b[0m\u001b[0;34m:\u001b[0m\u001b[0;34m\u001b[0m\u001b[0;34m\u001b[0m\u001b[0m\n\u001b[1;32m    128\u001b[0m                 \u001b[0;32mtry\u001b[0m\u001b[0;34m:\u001b[0m\u001b[0;34m\u001b[0m\u001b[0;34m\u001b[0m\u001b[0m\n\u001b[0;32m--> 129\u001b[0;31m                     \u001b[0;32mreturn\u001b[0m \u001b[0mfunc\u001b[0m\u001b[0;34m(\u001b[0m\u001b[0;34m*\u001b[0m\u001b[0margs\u001b[0m\u001b[0;34m,\u001b[0m \u001b[0;34m**\u001b[0m\u001b[0mkwargs\u001b[0m\u001b[0;34m)\u001b[0m\u001b[0;34m\u001b[0m\u001b[0;34m\u001b[0m\u001b[0m\n\u001b[0m\u001b[1;32m    130\u001b[0m                 \u001b[0;32mexcept\u001b[0m \u001b[0mException\u001b[0m \u001b[0;32mas\u001b[0m \u001b[0me\u001b[0m\u001b[0;34m:\u001b[0m\u001b[0;34m\u001b[0m\u001b[0;34m\u001b[0m\u001b[0m\n\u001b[1;32m    131\u001b[0m                     \u001b[0;32mif\u001b[0m \u001b[0mhasattr\u001b[0m\u001b[0;34m(\u001b[0m\u001b[0mal\u001b[0m\u001b[0;34m,\u001b[0m \u001b[0;34m'activity_info'\u001b[0m\u001b[0;34m)\u001b[0m \u001b[0;32mand\u001b[0m \u001b[0mhasattr\u001b[0m\u001b[0;34m(\u001b[0m\u001b[0me\u001b[0m\u001b[0;34m,\u001b[0m \u001b[0;34m'error_code'\u001b[0m\u001b[0;34m)\u001b[0m\u001b[0;34m:\u001b[0m\u001b[0;34m\u001b[0m\u001b[0;34m\u001b[0m\u001b[0m\n",
      "\u001b[0;32m/anaconda/envs/azureml_py36/lib/python3.6/site-packages/azureml/data/dataset_factory.py\u001b[0m in \u001b[0;36mfrom_delimited_files\u001b[0;34m(path, validate, include_path, infer_column_types, set_column_types, separator, header, partition_format, support_multi_line, empty_as_string, encoding)\u001b[0m\n\u001b[1;32m    330\u001b[0m \u001b[0;34m\u001b[0m\u001b[0m\n\u001b[1;32m    331\u001b[0m         \u001b[0mencoding\u001b[0m \u001b[0;34m=\u001b[0m \u001b[0m_FileEncoding\u001b[0m\u001b[0;34m.\u001b[0m\u001b[0mparse\u001b[0m\u001b[0;34m(\u001b[0m\u001b[0mencoding\u001b[0m\u001b[0;34m)\u001b[0m\u001b[0;34m\u001b[0m\u001b[0;34m\u001b[0m\u001b[0m\n\u001b[0;32m--> 332\u001b[0;31m         \u001b[0mpath\u001b[0m \u001b[0;34m=\u001b[0m \u001b[0m_validate_and_normalize_path\u001b[0m\u001b[0;34m(\u001b[0m\u001b[0mpath\u001b[0m\u001b[0;34m)\u001b[0m\u001b[0;34m\u001b[0m\u001b[0;34m\u001b[0m\u001b[0m\n\u001b[0m\u001b[1;32m    333\u001b[0m         \u001b[0m_trace_dataset_creation\u001b[0m\u001b[0;34m(\u001b[0m\u001b[0mpath\u001b[0m\u001b[0;34m)\u001b[0m\u001b[0;34m\u001b[0m\u001b[0;34m\u001b[0m\u001b[0m\n\u001b[1;32m    334\u001b[0m         \u001b[0;32mimport\u001b[0m \u001b[0minspect\u001b[0m\u001b[0;34m\u001b[0m\u001b[0;34m\u001b[0m\u001b[0m\n",
      "\u001b[0;32m/anaconda/envs/azureml_py36/lib/python3.6/site-packages/azureml/data/dataset_factory.py\u001b[0m in \u001b[0;36m_validate_and_normalize_path\u001b[0;34m(path)\u001b[0m\n\u001b[1;32m   1087\u001b[0m     \u001b[0;32mif\u001b[0m \u001b[0mall\u001b[0m\u001b[0;34m(\u001b[0m\u001b[0;34m[\u001b[0m\u001b[0misinstance\u001b[0m\u001b[0;34m(\u001b[0m\u001b[0mp\u001b[0m\u001b[0;34m,\u001b[0m \u001b[0mstr\u001b[0m\u001b[0;34m)\u001b[0m \u001b[0;32mfor\u001b[0m \u001b[0mp\u001b[0m \u001b[0;32min\u001b[0m \u001b[0mpath\u001b[0m\u001b[0;34m]\u001b[0m\u001b[0;34m)\u001b[0m\u001b[0;34m:\u001b[0m\u001b[0;34m\u001b[0m\u001b[0;34m\u001b[0m\u001b[0m\n\u001b[1;32m   1088\u001b[0m         \u001b[0;32mif\u001b[0m \u001b[0many\u001b[0m\u001b[0;34m(\u001b[0m\u001b[0;34m[\u001b[0m\u001b[0;32mnot\u001b[0m \u001b[0mhttp_pattern\u001b[0m\u001b[0;34m.\u001b[0m\u001b[0mmatch\u001b[0m\u001b[0;34m(\u001b[0m\u001b[0mp\u001b[0m\u001b[0;34m)\u001b[0m \u001b[0;32mfor\u001b[0m \u001b[0mp\u001b[0m \u001b[0;32min\u001b[0m \u001b[0mpath\u001b[0m\u001b[0;34m]\u001b[0m\u001b[0;34m)\u001b[0m\u001b[0;34m:\u001b[0m\u001b[0;34m\u001b[0m\u001b[0;34m\u001b[0m\u001b[0m\n\u001b[0;32m-> 1089\u001b[0;31m             \u001b[0;32mraise\u001b[0m \u001b[0minvalid_path_error\u001b[0m\u001b[0;34m\u001b[0m\u001b[0;34m\u001b[0m\u001b[0m\n\u001b[0m\u001b[1;32m   1090\u001b[0m         \u001b[0;32mif\u001b[0m \u001b[0many\u001b[0m\u001b[0;34m(\u001b[0m\u001b[0;34m[\u001b[0m\u001b[0mblob_with_sas\u001b[0m\u001b[0;34m.\u001b[0m\u001b[0mmatch\u001b[0m\u001b[0;34m(\u001b[0m\u001b[0mp\u001b[0m\u001b[0;34m)\u001b[0m \u001b[0;32mfor\u001b[0m \u001b[0mp\u001b[0m \u001b[0;32min\u001b[0m \u001b[0mpath\u001b[0m\u001b[0;34m]\u001b[0m\u001b[0;34m)\u001b[0m\u001b[0;34m:\u001b[0m\u001b[0;34m\u001b[0m\u001b[0;34m\u001b[0m\u001b[0m\n\u001b[1;32m   1091\u001b[0m             \u001b[0;32mraise\u001b[0m \u001b[0minvalid_path_error\u001b[0m\u001b[0;34m\u001b[0m\u001b[0;34m\u001b[0m\u001b[0m\n",
      "\u001b[0;31mUserErrorException\u001b[0m: UserErrorException:\n\tMessage: Invalid argument type for `path`. It can be single value or a list of: string starting with \"http://\" or \"https://\", `azureml.data.datapath.DataPath` object, or tuple of `azureml.core.Datastore` object and string for relative path in the datastore.Url of blob can't contains SAS token, please use datastore instead.\n\tInnerException None\n\tErrorResponse \n{\n    \"error\": {\n        \"code\": \"UserError\",\n        \"message\": \"Invalid argument type for `path`. It can be single value or a list of: string starting with \\\"http://\\\" or \\\"https://\\\", `azureml.data.datapath.DataPath` object, or tuple of `azureml.core.Datastore` object and string for relative path in the datastore.Url of blob can't contains SAS token, please use datastore instead.\"\n    }\n}"
     ]
    }
   ],
   "source": [
    "from train import clean_data\n",
    "from sklearn.model_selection import train_test_split\n",
    "\n",
    "# Use the clean_data function to clean your data.\n",
    "x, y = clean_data(ds)\n",
    "\n",
    "#automl settings have the optios to assign the dataframe and identify a target variable within it.\n",
    "datafinal = pd.concat([x,y], axis = 1)\n",
    "datafinal.head()\n",
    "\n",
    "x_train, x_test, y_train, y_test = train_test_split(x, y, test_size=0.3, random_state=42)"
   ]
  },
  {
   "cell_type": "code",
   "execution_count": 15,
   "metadata": {
    "gather": {
     "logged": 1598275665403
    },
    "jupyter": {
     "outputs_hidden": false,
     "source_hidden": false
    },
    "nteract": {
     "transient": {
      "deleting": false
     }
    }
   },
   "outputs": [],
   "source": [
    "from azureml.train.automl import AutoMLConfig\n",
    "\n",
    "# Set parameters for AutoMLConfig\n",
    "# NOTE: DO NOT CHANGE THE experiment_timeout_minutes PARAMETER OR YOUR INSTANCE WILL TIME OUT.\n",
    "# If you wish to run the experiment longer, you will need to run this notebook in your own\n",
    "# Azure tenant, which will incur personal costs.\n",
    "automl_config = AutoMLConfig(\n",
    "    experiment_timeout_minutes = 30,\n",
    "    compute_target = compute_target,\n",
    "    primary_metric = 'accuracy',\n",
    "    n_cross_validations = 3, #typically 5, used to make time go quicker.\n",
    "    task = 'classification',\n",
    "    training_data = ds,\n",
    "    label_column_name = 'y',\n",
    "    enable_onnx_compatible_models = True)"
   ]
  },
  {
   "cell_type": "code",
   "execution_count": 16,
   "metadata": {},
   "outputs": [
    {
     "name": "stdout",
     "output_type": "stream",
     "text": [
      "Running on remote.\n",
      "No run_configuration provided, running on cpu-cluster-01 with default configuration\n",
      "Running on remote compute: cpu-cluster-01\n",
      "Parent Run ID: AutoML_573ad1d1-40a4-457f-a797-cdccc223a339\n",
      "\n",
      "Current status: FeaturesGeneration. Generating features for the dataset.\n",
      "Current status: DatasetFeaturization. Beginning to fit featurizers and featurize the dataset.\n",
      "Current status: DatasetCrossValidationSplit. Generating individually featurized CV splits.\n",
      "Current status: ModelSelection. Beginning model selection.\n",
      "\n",
      "****************************************************************************************************\n",
      "DATA GUARDRAILS: \n",
      "\n",
      "TYPE:         Class balancing detection\n",
      "STATUS:       ALERTED\n",
      "DESCRIPTION:  To decrease model bias, please cancel the current run and fix balancing problem.\n",
      "              Learn more about imbalanced data: https://aka.ms/AutomatedMLImbalancedData\n",
      "DETAILS:      Imbalanced data can lead to a falsely perceived positive effect of a model's accuracy because the input data has bias towards one class.\n",
      "+---------------------------------+---------------------------------+--------------------------------------+\n",
      "|Size of the smallest class       |Name/Label of the smallest class |Number of samples in the training data|\n",
      "+=================================+=================================+======================================+\n",
      "|3692                             |yes                              |32950                                 |\n",
      "+---------------------------------+---------------------------------+--------------------------------------+\n",
      "\n",
      "****************************************************************************************************\n",
      "\n",
      "TYPE:         Missing feature values imputation\n",
      "STATUS:       PASSED\n",
      "DESCRIPTION:  No feature missing values were detected in the training data.\n",
      "              Learn more about missing value imputation: https://aka.ms/AutomatedMLFeaturization\n",
      "\n",
      "****************************************************************************************************\n",
      "\n",
      "TYPE:         High cardinality feature detection\n",
      "STATUS:       PASSED\n",
      "DESCRIPTION:  Your inputs were analyzed, and no high cardinality features were detected.\n",
      "              Learn more about high cardinality feature handling: https://aka.ms/AutomatedMLFeaturization\n",
      "\n",
      "****************************************************************************************************\n",
      "\n",
      "****************************************************************************************************\n",
      "ITERATION: The iteration being evaluated.\n",
      "PIPELINE: A summary description of the pipeline being evaluated.\n",
      "DURATION: Time taken for the current iteration.\n",
      "METRIC: The result of computing score on the fitted pipeline.\n",
      "BEST: The best observed score thus far.\n",
      "****************************************************************************************************\n",
      "\n",
      " ITERATION   PIPELINE                                       DURATION      METRIC      BEST\n",
      "         0   MaxAbsScaler LightGBM                          0:00:58       0.9144    0.9144\n",
      "         1   MaxAbsScaler XGBoostClassifier                 0:01:12       0.9149    0.9149\n",
      "         2   MaxAbsScaler RandomForest                      0:00:51       0.8920    0.9149\n",
      "         3   MaxAbsScaler RandomForest                      0:00:51       0.8880    0.9149\n",
      "         4   MaxAbsScaler RandomForest                      0:00:48       0.8081    0.9149\n",
      "         5   MaxAbsScaler RandomForest                      0:00:46       0.7292    0.9149\n",
      "         6   SparseNormalizer XGBoostClassifier             0:01:09       0.9114    0.9149\n",
      "         7   MaxAbsScaler GradientBoosting                  0:01:12       0.9041    0.9149\n",
      "         8   StandardScalerWrapper RandomForest             0:00:54       0.9005    0.9149\n",
      "         9   MaxAbsScaler LogisticRegression                0:00:54       0.9085    0.9149\n",
      "        10   MaxAbsScaler ExtremeRandomTrees                0:02:12       0.8880    0.9149\n",
      "        11   SparseNormalizer XGBoostClassifier             0:01:11       0.9122    0.9149\n",
      "        12   MaxAbsScaler LightGBM                          0:05:28       0.8930    0.9149\n",
      "        13   MaxAbsScaler LightGBM                          0:00:58       0.9048    0.9149\n",
      "        14   SparseNormalizer XGBoostClassifier             0:02:16       0.9132    0.9149\n",
      "        15   StandardScalerWrapper LightGBM                 0:01:02       0.8952    0.9149\n",
      "        16   StandardScalerWrapper RandomForest             0:01:18       0.8880    0.9149\n",
      "        17   StandardScalerWrapper LightGBM                 0:00:47       0.8880    0.9149\n",
      "        18   SparseNormalizer XGBoostClassifier             0:01:01       0.9119    0.9149\n",
      "        19    VotingEnsemble                                0:01:22       0.9170    0.9170\n"
     ]
    }
   ],
   "source": [
    "# Submit your automl run\n",
    "experiment = Experiment(ws, 'udacity_automl')\n",
    "automl_run = experiment.submit(config = automl_config, show_output = True)"
   ]
  },
  {
   "cell_type": "code",
   "execution_count": 19,
   "metadata": {},
   "outputs": [
    {
     "name": "stdout",
     "output_type": "stream",
     "text": [
      "Collecting azureml-train-automl-runtime\n",
      "  Downloading azureml_train_automl_runtime-1.18.0.post1-py3-none-any.whl (119 kB)\n",
      "\u001b[K     |████████████████████████████████| 119 kB 8.6 MB/s eta 0:00:01\n",
      "\u001b[?25hCollecting keras2onnx<=1.6.0,>=1.4.0\n",
      "  Downloading keras2onnx-1.6.0-py3-none-any.whl (219 kB)\n",
      "\u001b[K     |████████████████████████████████| 219 kB 10.9 MB/s eta 0:00:01\n",
      "\u001b[?25hRequirement already satisfied: statsmodels<=0.10.2,>=0.9.0 in /anaconda/envs/azureml_py38/lib/python3.8/site-packages (from azureml-train-automl-runtime) (0.10.2)\n",
      "Collecting azureml-dataset-runtime[fuse,pandas]~=1.18.0\n",
      "  Downloading azureml_dataset_runtime-1.18.0-py3-none-any.whl (3.4 kB)\n",
      "Collecting skl2onnx==1.4.9\n",
      "  Downloading skl2onnx-1.4.9-py2.py3-none-any.whl (114 kB)\n",
      "\u001b[K     |████████████████████████████████| 114 kB 12.9 MB/s eta 0:00:01\n",
      "\u001b[?25hRequirement already satisfied: boto3<=1.15.18 in /anaconda/envs/azureml_py38/lib/python3.8/site-packages (from azureml-train-automl-runtime) (1.15.18)\n",
      "Requirement already satisfied: scikit-learn<0.23.0,>=0.19.0 in /anaconda/envs/azureml_py38/lib/python3.8/site-packages (from azureml-train-automl-runtime) (0.22.2.post1)\n",
      "Collecting onnxconverter-common<=1.6.0,>=1.4.2\n",
      "  Downloading onnxconverter_common-1.6.0-py2.py3-none-any.whl (43 kB)\n",
      "\u001b[K     |████████████████████████████████| 43 kB 1.1 MB/s  eta 0:00:01\n",
      "\u001b[?25hCollecting onnxmltools==1.4.1\n",
      "  Downloading onnxmltools-1.4.1-py2.py3-none-any.whl (371 kB)\n",
      "\u001b[K     |████████████████████████████████| 371 kB 12.4 MB/s eta 0:00:01\n",
      "\u001b[?25hCollecting onnxruntime==1.3.0\n",
      "  Downloading onnxruntime-1.3.0-cp38-cp38-manylinux1_x86_64.whl (3.9 MB)\n",
      "\u001b[K     |████████████████████████████████| 3.9 MB 15.2 MB/s eta 0:00:01\n",
      "\u001b[?25hRequirement already satisfied: scipy<=1.5.2,>=1.0.0 in /anaconda/envs/azureml_py38/lib/python3.8/site-packages (from azureml-train-automl-runtime) (1.5.2)\n",
      "Requirement already satisfied: lightgbm<=2.3.0,>=2.0.11 in /anaconda/envs/azureml_py38/lib/python3.8/site-packages (from azureml-train-automl-runtime) (2.3.0)\n",
      "Requirement already satisfied: azure-storage-queue~=12.1 in /anaconda/envs/azureml_py38/lib/python3.8/site-packages (from azureml-train-automl-runtime) (12.1.5)\n",
      "Requirement already satisfied: pandas<1.0.0,>=0.21.0 in /anaconda/envs/azureml_py38/lib/python3.8/site-packages (from azureml-train-automl-runtime) (0.25.3)\n",
      "Collecting azureml-automl-core~=1.18.0\n",
      "  Downloading azureml_automl_core-1.18.0.post2-py3-none-any.whl (186 kB)\n",
      "\u001b[K     |████████████████████████████████| 186 kB 102.0 MB/s eta 0:00:01\n",
      "\u001b[?25hCollecting azureml-train-automl-client~=1.18.0\n",
      "  Downloading azureml_train_automl_client-1.18.0-py3-none-any.whl (107 kB)\n",
      "\u001b[K     |████████████████████████████████| 107 kB 98.1 MB/s eta 0:00:01\n",
      "\u001b[?25hRequirement already satisfied: botocore<=1.18.18 in /anaconda/envs/azureml_py38/lib/python3.8/site-packages (from azureml-train-automl-runtime) (1.18.18)\n",
      "Collecting azureml-automl-runtime~=1.18.0\n",
      "  Downloading azureml_automl_runtime-1.18.0.post2-py3-none-any.whl (1.9 MB)\n",
      "\u001b[K     |████████████████████████████████| 1.9 MB 59.7 MB/s eta 0:00:01\n",
      "\u001b[?25hCollecting azureml-core~=1.18.0\n",
      "  Downloading azureml_core-1.18.0.post4-py3-none-any.whl (2.1 MB)\n",
      "\u001b[K     |████████████████████████████████| 2.1 MB 93.0 MB/s eta 0:00:01\n",
      "\u001b[?25hCollecting azureml-telemetry~=1.18.0\n",
      "  Downloading azureml_telemetry-1.18.0.post1-py3-none-any.whl (30 kB)\n",
      "Collecting azureml-defaults~=1.18.0\n",
      "  Downloading azureml_defaults-1.18.0-py3-none-any.whl (3.1 kB)\n",
      "Collecting azureml-interpret~=1.18.0\n",
      "  Downloading azureml_interpret-1.18.0-py3-none-any.whl (47 kB)\n",
      "\u001b[K     |████████████████████████████████| 47 kB 4.5 MB/s  eta 0:00:01\n",
      "\u001b[?25hRequirement already satisfied: smart-open<=1.9.0 in /anaconda/envs/azureml_py38/lib/python3.8/site-packages (from azureml-train-automl-runtime) (1.9.0)\n",
      "Requirement already satisfied: jinja2<=2.11.2 in /anaconda/envs/azureml_py38/lib/python3.8/site-packages (from azureml-train-automl-runtime) (2.11.2)\n",
      "Requirement already satisfied: sklearn-pandas<=1.7.0,>=1.4.0 in /anaconda/envs/azureml_py38/lib/python3.8/site-packages (from azureml-train-automl-runtime) (1.7.0)\n",
      "Requirement already satisfied: gensim<3.9.0 in /anaconda/envs/azureml_py38/lib/python3.8/site-packages (from azureml-train-automl-runtime) (3.8.3)\n",
      "Requirement already satisfied: numpy<1.19.0,>=1.16.0 in /anaconda/envs/azureml_py38/lib/python3.8/site-packages (from azureml-train-automl-runtime) (1.18.5)\n",
      "Collecting onnx<=1.7.0,>=1.5.0\n",
      "  Downloading onnx-1.7.0-cp38-cp38-manylinux1_x86_64.whl (7.4 MB)\n",
      "\u001b[K     |████████████████████████████████| 7.4 MB 85.7 MB/s eta 0:00:01\n",
      "\u001b[?25hRequirement already satisfied: requests in /anaconda/envs/azureml_py38/lib/python3.8/site-packages (from keras2onnx<=1.6.0,>=1.4.0->azureml-train-automl-runtime) (2.25.1)\n",
      "Requirement already satisfied: fire in /anaconda/envs/azureml_py38/lib/python3.8/site-packages (from keras2onnx<=1.6.0,>=1.4.0->azureml-train-automl-runtime) (0.4.0)\n",
      "Requirement already satisfied: protobuf in /anaconda/envs/azureml_py38/lib/python3.8/site-packages (from keras2onnx<=1.6.0,>=1.4.0->azureml-train-automl-runtime) (3.15.4)\n",
      "Requirement already satisfied: patsy>=0.4.0 in /anaconda/envs/azureml_py38/lib/python3.8/site-packages (from statsmodels<=0.10.2,>=0.9.0->azureml-train-automl-runtime) (0.5.1)\n",
      "Collecting azureml-dataprep<2.5.0a,>=2.4.0a\n",
      "  Downloading azureml_dataprep-2.4.5-py3-none-any.whl (28.2 MB)\n",
      "\u001b[K     |████████████████████████████████| 28.2 MB 30.5 MB/s eta 0:00:01\n",
      "\u001b[?25hRequirement already satisfied: pyarrow<2.0.0,>=0.17.0 in /anaconda/envs/azureml_py38/lib/python3.8/site-packages (from azureml-dataset-runtime[fuse,pandas]~=1.18.0->azureml-train-automl-runtime) (1.0.1)\n",
      "Requirement already satisfied: fusepy<4.0.0,>=3.0.1; extra == \"fuse\" in /anaconda/envs/azureml_py38/lib/python3.8/site-packages (from azureml-dataset-runtime[fuse,pandas]~=1.18.0->azureml-train-automl-runtime) (3.0.1)\n",
      "Requirement already satisfied: six in /anaconda/envs/azureml_py38/lib/python3.8/site-packages (from skl2onnx==1.4.9->azureml-train-automl-runtime) (1.15.0)\n",
      "Requirement already satisfied: s3transfer<0.4.0,>=0.3.0 in /anaconda/envs/azureml_py38/lib/python3.8/site-packages (from boto3<=1.15.18->azureml-train-automl-runtime) (0.3.4)\n",
      "Requirement already satisfied: jmespath<1.0.0,>=0.7.1 in /anaconda/envs/azureml_py38/lib/python3.8/site-packages (from boto3<=1.15.18->azureml-train-automl-runtime) (0.10.0)\n",
      "Requirement already satisfied: joblib>=0.11 in /anaconda/envs/azureml_py38/lib/python3.8/site-packages (from scikit-learn<0.23.0,>=0.19.0->azureml-train-automl-runtime) (0.14.1)\n",
      "Requirement already satisfied: msrest>=0.6.10 in /anaconda/envs/azureml_py38/lib/python3.8/site-packages (from azure-storage-queue~=12.1->azureml-train-automl-runtime) (0.6.21)\n",
      "Requirement already satisfied: azure-core<2.0.0,>=1.10.0 in /anaconda/envs/azureml_py38/lib/python3.8/site-packages (from azure-storage-queue~=12.1->azureml-train-automl-runtime) (1.11.0)\n",
      "Requirement already satisfied: cryptography>=2.1.4 in /anaconda/envs/azureml_py38/lib/python3.8/site-packages (from azure-storage-queue~=12.1->azureml-train-automl-runtime) (3.2)\n",
      "Requirement already satisfied: pytz>=2017.2 in /anaconda/envs/azureml_py38/lib/python3.8/site-packages (from pandas<1.0.0,>=0.21.0->azureml-train-automl-runtime) (2021.1)\n",
      "Requirement already satisfied: python-dateutil>=2.6.1 in /anaconda/envs/azureml_py38/lib/python3.8/site-packages (from pandas<1.0.0,>=0.21.0->azureml-train-automl-runtime) (2.8.1)\n",
      "Requirement already satisfied: urllib3<1.26,>=1.20; python_version != \"3.4\" in /anaconda/envs/azureml_py38/lib/python3.8/site-packages (from botocore<=1.18.18->azureml-train-automl-runtime) (1.25.11)\n",
      "Requirement already satisfied: psutil<6.0.0,>=5.2.2 in /anaconda/envs/azureml_py38/lib/python3.8/site-packages (from azureml-automl-runtime~=1.18.0->azureml-train-automl-runtime) (5.8.0)\n",
      "Requirement already satisfied: dill<0.4.0,>=0.2.8 in /anaconda/envs/azureml_py38/lib/python3.8/site-packages (from azureml-automl-runtime~=1.18.0->azureml-train-automl-runtime) (0.3.3)\n",
      "Requirement already satisfied: pmdarima==1.1.1 in /anaconda/envs/azureml_py38/lib/python3.8/site-packages (from azureml-automl-runtime~=1.18.0->azureml-train-automl-runtime) (1.1.1)\n"
     ]
    },
    {
     "name": "stdout",
     "output_type": "stream",
     "text": [
      "Collecting nimbusml<=1.8.0,>=1.7.1\n",
      "  Downloading nimbusml-1.8.0-cp38-none-manylinux1_x86_64.whl (114.1 MB)\n",
      "\u001b[K     |████████████████████████████████| 114.1 MB 67 kB/s s eta 0:00:01\n",
      "\u001b[?25hRequirement already satisfied: py-cpuinfo==5.0.0 in /anaconda/envs/azureml_py38/lib/python3.8/site-packages (from azureml-automl-runtime~=1.18.0->azureml-train-automl-runtime) (5.0.0)\n",
      "Requirement already satisfied: SecretStorage in /anaconda/envs/azureml_py38/lib/python3.8/site-packages (from azureml-core~=1.18.0->azureml-train-automl-runtime) (3.3.1)\n",
      "Requirement already satisfied: ndg-httpsclient in /anaconda/envs/azureml_py38/lib/python3.8/site-packages (from azureml-core~=1.18.0->azureml-train-automl-runtime) (0.5.1)\n",
      "Requirement already satisfied: msrestazure>=0.4.33 in /anaconda/envs/azureml_py38/lib/python3.8/site-packages (from azureml-core~=1.18.0->azureml-train-automl-runtime) (0.6.4)\n",
      "Requirement already satisfied: azure-mgmt-keyvault<7.0.0,>=0.40.0 in /anaconda/envs/azureml_py38/lib/python3.8/site-packages (from azureml-core~=1.18.0->azureml-train-automl-runtime) (2.2.0)\n",
      "Requirement already satisfied: docker in /anaconda/envs/azureml_py38/lib/python3.8/site-packages (from azureml-core~=1.18.0->azureml-train-automl-runtime) (4.4.4)\n",
      "Requirement already satisfied: azure-mgmt-storage<16.0.0,>=1.5.0 in /anaconda/envs/azureml_py38/lib/python3.8/site-packages (from azureml-core~=1.18.0->azureml-train-automl-runtime) (11.2.0)\n",
      "Requirement already satisfied: pathspec in /anaconda/envs/azureml_py38/lib/python3.8/site-packages (from azureml-core~=1.18.0->azureml-train-automl-runtime) (0.8.1)\n",
      "Requirement already satisfied: PyJWT<2.0.0 in /anaconda/envs/azureml_py38/lib/python3.8/site-packages (from azureml-core~=1.18.0->azureml-train-automl-runtime) (1.7.1)\n",
      "Requirement already satisfied: azure-common>=1.1.12 in /anaconda/envs/azureml_py38/lib/python3.8/site-packages (from azureml-core~=1.18.0->azureml-train-automl-runtime) (1.1.26)\n",
      "Requirement already satisfied: azure-mgmt-authorization<1.0.0,>=0.40.0 in /anaconda/envs/azureml_py38/lib/python3.8/site-packages (from azureml-core~=1.18.0->azureml-train-automl-runtime) (0.61.0)\n",
      "Requirement already satisfied: azure-graphrbac<1.0.0,>=0.40.0 in /anaconda/envs/azureml_py38/lib/python3.8/site-packages (from azureml-core~=1.18.0->azureml-train-automl-runtime) (0.61.1)\n",
      "Requirement already satisfied: adal>=1.2.0 in /anaconda/envs/azureml_py38/lib/python3.8/site-packages (from azureml-core~=1.18.0->azureml-train-automl-runtime) (1.2.6)\n",
      "Requirement already satisfied: azure-mgmt-resource<15.0.0,>=1.2.1 in /anaconda/envs/azureml_py38/lib/python3.8/site-packages (from azureml-core~=1.18.0->azureml-train-automl-runtime) (12.0.0)\n",
      "Requirement already satisfied: jsonpickle in /anaconda/envs/azureml_py38/lib/python3.8/site-packages (from azureml-core~=1.18.0->azureml-train-automl-runtime) (2.0.0)\n",
      "Requirement already satisfied: backports.tempfile in /anaconda/envs/azureml_py38/lib/python3.8/site-packages (from azureml-core~=1.18.0->azureml-train-automl-runtime) (1.0)\n",
      "Requirement already satisfied: ruamel.yaml>=0.15.35 in /anaconda/envs/azureml_py38/lib/python3.8/site-packages (from azureml-core~=1.18.0->azureml-train-automl-runtime) (0.16.12)\n",
      "Requirement already satisfied: contextlib2 in /anaconda/envs/azureml_py38/lib/python3.8/site-packages (from azureml-core~=1.18.0->azureml-train-automl-runtime) (0.6.0.post1)\n",
      "Collecting pyopenssl<20.0.0\n",
      "  Downloading pyOpenSSL-19.1.0-py2.py3-none-any.whl (53 kB)\n",
      "\u001b[K     |████████████████████████████████| 53 kB 1.3 MB/s  eta 0:00:01\n",
      "\u001b[?25hRequirement already satisfied: azure-mgmt-containerregistry>=2.0.0 in /anaconda/envs/azureml_py38/lib/python3.8/site-packages (from azureml-core~=1.18.0->azureml-train-automl-runtime) (2.8.0)\n",
      "Requirement already satisfied: applicationinsights in /anaconda/envs/azureml_py38/lib/python3.8/site-packages (from azureml-telemetry~=1.18.0->azureml-train-automl-runtime) (0.11.9)\n",
      "Requirement already satisfied: werkzeug<=1.0.1,>=0.16.1 in /anaconda/envs/azureml_py38/lib/python3.8/site-packages (from azureml-defaults~=1.18.0->azureml-train-automl-runtime) (1.0.1)\n",
      "Requirement already satisfied: configparser==3.7.4 in /anaconda/envs/azureml_py38/lib/python3.8/site-packages (from azureml-defaults~=1.18.0->azureml-train-automl-runtime) (3.7.4)\n",
      "Requirement already satisfied: flask==1.0.3 in /anaconda/envs/azureml_py38/lib/python3.8/site-packages (from azureml-defaults~=1.18.0->azureml-train-automl-runtime) (1.0.3)\n",
      "Requirement already satisfied: json-logging-py==0.2 in /anaconda/envs/azureml_py38/lib/python3.8/site-packages (from azureml-defaults~=1.18.0->azureml-train-automl-runtime) (0.2)\n",
      "Requirement already satisfied: azureml-model-management-sdk==1.0.1b6.post1 in /anaconda/envs/azureml_py38/lib/python3.8/site-packages (from azureml-defaults~=1.18.0->azureml-train-automl-runtime) (1.0.1b6.post1)\n",
      "Requirement already satisfied: gunicorn==19.9.0 in /anaconda/envs/azureml_py38/lib/python3.8/site-packages (from azureml-defaults~=1.18.0->azureml-train-automl-runtime) (19.9.0)\n",
      "Collecting interpret-community==0.15.*\n",
      "  Downloading interpret_community-0.15.4-py3-none-any.whl (5.9 MB)\n",
      "\u001b[K     |████████████████████████████████| 5.9 MB 103.4 MB/s eta 0:00:01\n",
      "\u001b[?25hRequirement already satisfied: boto>=2.32 in /anaconda/envs/azureml_py38/lib/python3.8/site-packages (from smart-open<=1.9.0->azureml-train-automl-runtime) (2.49.0)\n",
      "Requirement already satisfied: MarkupSafe>=0.23 in /anaconda/envs/azureml_py38/lib/python3.8/site-packages (from jinja2<=2.11.2->azureml-train-automl-runtime) (1.1.1)\n",
      "Requirement already satisfied: typing-extensions>=3.6.2.1 in /anaconda/envs/azureml_py38/lib/python3.8/site-packages (from onnx<=1.7.0,>=1.5.0->azureml-train-automl-runtime) (3.7.4.3)\n",
      "Requirement already satisfied: chardet<5,>=3.0.2 in /anaconda/envs/azureml_py38/lib/python3.8/site-packages (from requests->keras2onnx<=1.6.0,>=1.4.0->azureml-train-automl-runtime) (4.0.0)\n",
      "Requirement already satisfied: certifi>=2017.4.17 in /anaconda/envs/azureml_py38/lib/python3.8/site-packages (from requests->keras2onnx<=1.6.0,>=1.4.0->azureml-train-automl-runtime) (2020.6.20)\n",
      "Requirement already satisfied: idna<3,>=2.5 in /anaconda/envs/azureml_py38/lib/python3.8/site-packages (from requests->keras2onnx<=1.6.0,>=1.4.0->azureml-train-automl-runtime) (2.10)\n",
      "Requirement already satisfied: termcolor in /anaconda/envs/azureml_py38/lib/python3.8/site-packages (from fire->keras2onnx<=1.6.0,>=1.4.0->azureml-train-automl-runtime) (1.1.0)\n",
      "Requirement already satisfied: dotnetcore2<3.0.0,>=2.1.14 in /anaconda/envs/azureml_py38/lib/python3.8/site-packages (from azureml-dataprep<2.5.0a,>=2.4.0a->azureml-dataset-runtime[fuse,pandas]~=1.18.0->azureml-train-automl-runtime) (2.1.20)\n",
      "Requirement already satisfied: cloudpickle<2.0.0,>=1.1.0 in /anaconda/envs/azureml_py38/lib/python3.8/site-packages (from azureml-dataprep<2.5.0a,>=2.4.0a->azureml-dataset-runtime[fuse,pandas]~=1.18.0->azureml-train-automl-runtime) (1.6.0)\n",
      "Requirement already satisfied: azure-identity<1.5.0,>=1.2.0 in /anaconda/envs/azureml_py38/lib/python3.8/site-packages (from azureml-dataprep<2.5.0a,>=2.4.0a->azureml-dataset-runtime[fuse,pandas]~=1.18.0->azureml-train-automl-runtime) (1.4.1)\n",
      "Collecting azureml-dataprep-rslex<1.3.0a,>=1.2.0dev0\n",
      "  Downloading azureml_dataprep_rslex-1.2.3-cp38-cp38-manylinux2010_x86_64.whl (7.9 MB)\n",
      "\u001b[K     |████████████████████████████████| 7.9 MB 52.3 MB/s eta 0:00:01\n",
      "\u001b[?25hCollecting azureml-dataprep-native<25.0.0,>=24.0.0\n",
      "  Downloading azureml_dataprep_native-24.0.0-cp38-cp38-manylinux1_x86_64.whl (1.4 MB)\n",
      "\u001b[K     |████████████████████████████████| 1.4 MB 54.2 MB/s eta 0:00:01\n",
      "\u001b[?25hRequirement already satisfied: isodate>=0.6.0 in /anaconda/envs/azureml_py38/lib/python3.8/site-packages (from msrest>=0.6.10->azure-storage-queue~=12.1->azureml-train-automl-runtime) (0.6.0)\n",
      "Requirement already satisfied: requests-oauthlib>=0.5.0 in /anaconda/envs/azureml_py38/lib/python3.8/site-packages (from msrest>=0.6.10->azure-storage-queue~=12.1->azureml-train-automl-runtime) (1.3.0)\n",
      "Requirement already satisfied: cffi!=1.11.3,>=1.8 in /anaconda/envs/azureml_py38/lib/python3.8/site-packages (from cryptography>=2.1.4->azure-storage-queue~=12.1->azureml-train-automl-runtime) (1.14.5)\n",
      "Requirement already satisfied: Cython>=0.29 in /anaconda/envs/azureml_py38/lib/python3.8/site-packages (from pmdarima==1.1.1->azureml-automl-runtime~=1.18.0->azureml-train-automl-runtime) (0.29.21)\n",
      "Requirement already satisfied: jeepney>=0.6 in /anaconda/envs/azureml_py38/lib/python3.8/site-packages (from SecretStorage->azureml-core~=1.18.0->azureml-train-automl-runtime) (0.6.0)\n",
      "Requirement already satisfied: pyasn1>=0.1.1 in /anaconda/envs/azureml_py38/lib/python3.8/site-packages (from ndg-httpsclient->azureml-core~=1.18.0->azureml-train-automl-runtime) (0.4.8)\n",
      "Requirement already satisfied: websocket-client>=0.32.0 in /anaconda/envs/azureml_py38/lib/python3.8/site-packages (from docker->azureml-core~=1.18.0->azureml-train-automl-runtime) (0.58.0)\n",
      "Requirement already satisfied: backports.weakref in /anaconda/envs/azureml_py38/lib/python3.8/site-packages (from backports.tempfile->azureml-core~=1.18.0->azureml-train-automl-runtime) (1.0.post1)\n",
      "Requirement already satisfied: ruamel.yaml.clib>=0.1.2; platform_python_implementation == \"CPython\" and python_version < \"3.9\" in /anaconda/envs/azureml_py38/lib/python3.8/site-packages (from ruamel.yaml>=0.15.35->azureml-core~=1.18.0->azureml-train-automl-runtime) (0.2.2)\n"
     ]
    },
    {
     "name": "stdout",
     "output_type": "stream",
     "text": [
      "Requirement already satisfied: click>=5.1 in /anaconda/envs/azureml_py38/lib/python3.8/site-packages (from flask==1.0.3->azureml-defaults~=1.18.0->azureml-train-automl-runtime) (7.1.2)\n",
      "Requirement already satisfied: itsdangerous>=0.24 in /anaconda/envs/azureml_py38/lib/python3.8/site-packages (from flask==1.0.3->azureml-defaults~=1.18.0->azureml-train-automl-runtime) (1.1.0)\n",
      "Requirement already satisfied: liac-arff>=2.1.1 in /anaconda/envs/azureml_py38/lib/python3.8/site-packages (from azureml-model-management-sdk==1.0.1b6.post1->azureml-defaults~=1.18.0->azureml-train-automl-runtime) (2.5.0)\n",
      "Requirement already satisfied: interpret-core[required]<=0.2.1,>=0.1.20 in /anaconda/envs/azureml_py38/lib/python3.8/site-packages (from interpret-community==0.15.*->azureml-interpret~=1.18.0->azureml-train-automl-runtime) (0.2.1)\n",
      "Requirement already satisfied: shap<=0.34.0,>=0.20.0 in /anaconda/envs/azureml_py38/lib/python3.8/site-packages (from interpret-community==0.15.*->azureml-interpret~=1.18.0->azureml-train-automl-runtime) (0.34.0)\n",
      "Requirement already satisfied: packaging in /anaconda/envs/azureml_py38/lib/python3.8/site-packages (from interpret-community==0.15.*->azureml-interpret~=1.18.0->azureml-train-automl-runtime) (20.9)\n",
      "Requirement already satisfied: distro>=1.2.0 in /anaconda/envs/azureml_py38/lib/python3.8/site-packages (from dotnetcore2<3.0.0,>=2.1.14->azureml-dataprep<2.5.0a,>=2.4.0a->azureml-dataset-runtime[fuse,pandas]~=1.18.0->azureml-train-automl-runtime) (1.5.0)\n",
      "Requirement already satisfied: msal-extensions~=0.2.2 in /anaconda/envs/azureml_py38/lib/python3.8/site-packages (from azure-identity<1.5.0,>=1.2.0->azureml-dataprep<2.5.0a,>=2.4.0a->azureml-dataset-runtime[fuse,pandas]~=1.18.0->azureml-train-automl-runtime) (0.2.2)\n",
      "Requirement already satisfied: msal<2.0.0,>=1.3.0 in /anaconda/envs/azureml_py38/lib/python3.8/site-packages (from azure-identity<1.5.0,>=1.2.0->azureml-dataprep<2.5.0a,>=2.4.0a->azureml-dataset-runtime[fuse,pandas]~=1.18.0->azureml-train-automl-runtime) (1.9.0)\n",
      "Requirement already satisfied: oauthlib>=3.0.0 in /anaconda/envs/azureml_py38/lib/python3.8/site-packages (from requests-oauthlib>=0.5.0->msrest>=0.6.10->azure-storage-queue~=12.1->azureml-train-automl-runtime) (3.1.0)\n",
      "Requirement already satisfied: pycparser in /anaconda/envs/azureml_py38/lib/python3.8/site-packages (from cffi!=1.11.3,>=1.8->cryptography>=2.1.4->azure-storage-queue~=12.1->azureml-train-automl-runtime) (2.20)\n",
      "Requirement already satisfied: tqdm>4.25.0 in /anaconda/envs/azureml_py38/lib/python3.8/site-packages (from shap<=0.34.0,>=0.20.0->interpret-community==0.15.*->azureml-interpret~=1.18.0->azureml-train-automl-runtime) (4.58.0)\n",
      "Requirement already satisfied: pyparsing>=2.0.2 in /anaconda/envs/azureml_py38/lib/python3.8/site-packages (from packaging->interpret-community==0.15.*->azureml-interpret~=1.18.0->azureml-train-automl-runtime) (2.4.7)\n",
      "Requirement already satisfied: portalocker~=1.0; platform_system != \"Windows\" in /anaconda/envs/azureml_py38/lib/python3.8/site-packages (from msal-extensions~=0.2.2->azure-identity<1.5.0,>=1.2.0->azureml-dataprep<2.5.0a,>=2.4.0a->azureml-dataset-runtime[fuse,pandas]~=1.18.0->azureml-train-automl-runtime) (1.7.1)\n",
      "\u001b[31mERROR: azureml-widgets 1.24.0 has requirement azureml-core~=1.24.0, but you'll have azureml-core 1.18.0.post4 which is incompatible.\u001b[0m\n",
      "\u001b[31mERROR: azureml-widgets 1.24.0 has requirement azureml-telemetry~=1.24.0, but you'll have azureml-telemetry 1.18.0.post1 which is incompatible.\u001b[0m\n",
      "\u001b[31mERROR: azureml-train-core 1.24.0 has requirement azureml-core~=1.24.0, but you'll have azureml-core 1.18.0.post4 which is incompatible.\u001b[0m\n",
      "\u001b[31mERROR: azureml-train-core 1.24.0 has requirement azureml-telemetry~=1.24.0, but you'll have azureml-telemetry 1.18.0.post1 which is incompatible.\u001b[0m\n",
      "\u001b[31mERROR: azureml-tensorboard 1.24.0 has requirement azureml-core~=1.24.0, but you'll have azureml-core 1.18.0.post4 which is incompatible.\u001b[0m\n",
      "\u001b[31mERROR: azureml-sdk 1.24.0 has requirement azureml-core~=1.24.0, but you'll have azureml-core 1.18.0.post4 which is incompatible.\u001b[0m\n",
      "\u001b[31mERROR: azureml-sdk 1.24.0 has requirement azureml-dataset-runtime[fuse]~=1.24.0, but you'll have azureml-dataset-runtime 1.18.0 which is incompatible.\u001b[0m\n",
      "\u001b[31mERROR: azureml-sdk 1.24.0 has requirement azureml-train-automl-client~=1.24.0, but you'll have azureml-train-automl-client 1.18.0 which is incompatible.\u001b[0m\n",
      "\u001b[31mERROR: azureml-pipeline-steps 1.24.0 has requirement azureml-train-automl-client~=1.24.0, but you'll have azureml-train-automl-client 1.18.0 which is incompatible.\u001b[0m\n",
      "\u001b[31mERROR: azureml-pipeline-core 1.24.0 has requirement azureml-core~=1.24.0, but you'll have azureml-core 1.18.0.post4 which is incompatible.\u001b[0m\n",
      "\u001b[31mERROR: azureml-opendatasets 1.24.0 has requirement azureml-core~=1.24.0, but you'll have azureml-core 1.18.0.post4 which is incompatible.\u001b[0m\n",
      "\u001b[31mERROR: azureml-opendatasets 1.24.0 has requirement azureml-dataset-runtime[fuse,pandas]~=1.24.0, but you'll have azureml-dataset-runtime 1.18.0 which is incompatible.\u001b[0m\n",
      "\u001b[31mERROR: azureml-opendatasets 1.24.0 has requirement azureml-telemetry~=1.24.0, but you'll have azureml-telemetry 1.18.0.post1 which is incompatible.\u001b[0m\n",
      "\u001b[31mERROR: azureml-opendatasets 1.24.0 has requirement scipy<=1.4.1,>=1.0.0, but you'll have scipy 1.5.2 which is incompatible.\u001b[0m\n",
      "\u001b[31mERROR: azureml-mlflow 1.24.0 has requirement azureml-core~=1.24.0, but you'll have azureml-core 1.18.0.post4 which is incompatible.\u001b[0m\n",
      "\u001b[31mERROR: azureml-explain-model 1.24.0 has requirement azureml-interpret~=1.24.0, but you'll have azureml-interpret 1.18.0 which is incompatible.\u001b[0m\n",
      "\u001b[31mERROR: azureml-datadrift 1.24.0 has requirement azureml-core~=1.24.0, but you'll have azureml-core 1.18.0.post4 which is incompatible.\u001b[0m\n",
      "\u001b[31mERROR: azureml-datadrift 1.24.0 has requirement azureml-dataset-runtime[fuse,pandas]~=1.24.0, but you'll have azureml-dataset-runtime 1.18.0 which is incompatible.\u001b[0m\n",
      "\u001b[31mERROR: azureml-datadrift 1.24.0 has requirement azureml-telemetry~=1.24.0, but you'll have azureml-telemetry 1.18.0.post1 which is incompatible.\u001b[0m\n",
      "\u001b[31mERROR: azureml-contrib-services 1.24.0 has requirement azureml-core~=1.24.0, but you'll have azureml-core 1.18.0.post4 which is incompatible.\u001b[0m\n",
      "\u001b[31mERROR: azureml-contrib-server 1.24.0 has requirement azureml-core~=1.24.0, but you'll have azureml-core 1.18.0.post4 which is incompatible.\u001b[0m\n",
      "\u001b[31mERROR: azureml-contrib-reinforcementlearning 1.24.0 has requirement azureml-core~=1.24.0, but you'll have azureml-core 1.18.0.post4 which is incompatible.\u001b[0m\n",
      "\u001b[31mERROR: azureml-contrib-pipeline-steps 1.24.0 has requirement azureml-core~=1.24.0, but you'll have azureml-core 1.18.0.post4 which is incompatible.\u001b[0m\n",
      "\u001b[31mERROR: azureml-contrib-pipeline-steps 1.24.0 has requirement azureml-dataset-runtime~=1.24.0, but you'll have azureml-dataset-runtime 1.18.0 which is incompatible.\u001b[0m\n",
      "\u001b[31mERROR: azureml-contrib-notebook 1.24.0 has requirement azureml-core~=1.24.0, but you'll have azureml-core 1.18.0.post4 which is incompatible.\u001b[0m\n",
      "\u001b[31mERROR: azureml-contrib-gbdt 1.24.0 has requirement azureml-core~=1.24.0, but you'll have azureml-core 1.18.0.post4 which is incompatible.\u001b[0m\n",
      "\u001b[31mERROR: azureml-contrib-fairness 1.24.0 has requirement azureml-core~=1.24.0, but you'll have azureml-core 1.18.0.post4 which is incompatible.\u001b[0m\n",
      "\u001b[31mERROR: azureml-contrib-dataset 1.24.0 has requirement azureml-core~=1.24.0, but you'll have azureml-core 1.18.0.post4 which is incompatible.\u001b[0m\n",
      "\u001b[31mERROR: azureml-contrib-dataset 1.24.0 has requirement azureml-dataset-runtime[fuse,pandas]~=1.24.0, but you'll have azureml-dataset-runtime 1.18.0 which is incompatible.\u001b[0m\n",
      "\u001b[31mERROR: azureml-cli-common 1.24.0 has requirement azureml-core~=1.24.0, but you'll have azureml-core 1.18.0.post4 which is incompatible.\u001b[0m\n",
      "\u001b[31mERROR: azureml-accel-models 1.24.0 has requirement azureml-core~=1.24.0, but you'll have azureml-core 1.18.0.post4 which is incompatible.\u001b[0m\n",
      "Installing collected packages: onnx, onnxconverter-common, keras2onnx, azureml-dataprep-rslex, azureml-dataprep-native, azureml-dataprep, azureml-dataset-runtime, skl2onnx, onnxmltools, onnxruntime, pyopenssl, azureml-core, azureml-telemetry, azureml-automl-core, azureml-train-automl-client, nimbusml, azureml-automl-runtime, azureml-defaults, interpret-community, azureml-interpret, azureml-train-automl-runtime\n"
     ]
    },
    {
     "name": "stdout",
     "output_type": "stream",
     "text": [
      "  Attempting uninstall: azureml-dataprep-rslex\n",
      "    Found existing installation: azureml-dataprep-rslex 1.9.0\n",
      "    Uninstalling azureml-dataprep-rslex-1.9.0:\n",
      "      Successfully uninstalled azureml-dataprep-rslex-1.9.0\n",
      "  Attempting uninstall: azureml-dataprep-native\n",
      "    Found existing installation: azureml-dataprep-native 30.0.0\n",
      "    Uninstalling azureml-dataprep-native-30.0.0:\n",
      "      Successfully uninstalled azureml-dataprep-native-30.0.0\n",
      "  Attempting uninstall: azureml-dataprep\n",
      "    Found existing installation: azureml-dataprep 2.11.1\n",
      "    Uninstalling azureml-dataprep-2.11.1:\n",
      "      Successfully uninstalled azureml-dataprep-2.11.1\n",
      "  Attempting uninstall: azureml-dataset-runtime\n",
      "    Found existing installation: azureml-dataset-runtime 1.24.0\n",
      "    Uninstalling azureml-dataset-runtime-1.24.0:\n",
      "      Successfully uninstalled azureml-dataset-runtime-1.24.0\n",
      "  Attempting uninstall: pyopenssl\n",
      "    Found existing installation: pyOpenSSL 20.0.1\n",
      "    Uninstalling pyOpenSSL-20.0.1:\n",
      "      Successfully uninstalled pyOpenSSL-20.0.1\n",
      "  Attempting uninstall: azureml-core\n",
      "    Found existing installation: azureml-core 1.24.0\n",
      "    Uninstalling azureml-core-1.24.0:\n",
      "      Successfully uninstalled azureml-core-1.24.0\n",
      "  Attempting uninstall: azureml-telemetry\n",
      "    Found existing installation: azureml-telemetry 1.24.0\n",
      "    Uninstalling azureml-telemetry-1.24.0:\n",
      "      Successfully uninstalled azureml-telemetry-1.24.0\n",
      "  Attempting uninstall: azureml-automl-core\n",
      "    Found existing installation: azureml-automl-core 1.24.0\n",
      "    Uninstalling azureml-automl-core-1.24.0:\n",
      "      Successfully uninstalled azureml-automl-core-1.24.0\n",
      "  Attempting uninstall: azureml-train-automl-client\n",
      "    Found existing installation: azureml-train-automl-client 1.24.0\n",
      "    Uninstalling azureml-train-automl-client-1.24.0:\n",
      "      Successfully uninstalled azureml-train-automl-client-1.24.0\n",
      "  Attempting uninstall: azureml-defaults\n",
      "    Found existing installation: azureml-defaults 1.24.0\n",
      "    Uninstalling azureml-defaults-1.24.0:\n",
      "      Successfully uninstalled azureml-defaults-1.24.0\n",
      "  Attempting uninstall: interpret-community\n",
      "    Found existing installation: interpret-community 0.16.0\n",
      "    Uninstalling interpret-community-0.16.0:\n",
      "      Successfully uninstalled interpret-community-0.16.0\n",
      "  Attempting uninstall: azureml-interpret\n",
      "    Found existing installation: azureml-interpret 1.24.0\n",
      "    Uninstalling azureml-interpret-1.24.0:\n",
      "      Successfully uninstalled azureml-interpret-1.24.0\n",
      "Successfully installed azureml-automl-core-1.18.0.post2 azureml-automl-runtime-1.18.0.post2 azureml-core-1.18.0.post4 azureml-dataprep-2.4.5 azureml-dataprep-native-24.0.0 azureml-dataprep-rslex-1.2.3 azureml-dataset-runtime-1.18.0 azureml-defaults-1.18.0 azureml-interpret-1.18.0 azureml-telemetry-1.18.0.post1 azureml-train-automl-client-1.18.0 azureml-train-automl-runtime-1.18.0.post1 interpret-community-0.15.4 keras2onnx-1.6.0 nimbusml-1.8.0 onnx-1.7.0 onnxconverter-common-1.6.0 onnxmltools-1.4.1 onnxruntime-1.3.0 pyopenssl-19.1.0 skl2onnx-1.4.9\n",
      "Note: you may need to restart the kernel to use updated packages.\n"
     ]
    }
   ],
   "source": [
    "pip install azureml-train-automl-runtime"
   ]
  },
  {
   "cell_type": "code",
   "execution_count": 20,
   "metadata": {},
   "outputs": [],
   "source": [
    "import azureml.train.automl\n",
    "\n",
    "import azureml.automl.core\n",
    "from azureml.automl.runtime.onnx_convert import OnnxConverter\n",
    "\n",
    "best_automl_run, best_automl_onnx_model = automl_run.get_output(return_onnx_model = True)\n",
    "OnnxConverter.save_onnx_model(best_automl_onnx_model, file_path = 'outputs/best_automl_model.onnx')"
   ]
  },
  {
   "cell_type": "markdown",
   "metadata": {},
   "source": [
    "## Model Deployment\n",
    "\n",
    "Remember you have to deploy only one of the two models you trained.. Perform the steps in the rest of this notebook only if you wish to deploy this model."
   ]
  },
  {
   "cell_type": "code",
   "execution_count": null,
   "metadata": {},
   "outputs": [],
   "source": []
  }
 ],
 "metadata": {
  "kernel_info": {
   "name": "python3"
  },
  "kernelspec": {
   "display_name": "Python 3",
   "language": "python",
   "name": "python3"
  },
  "language_info": {
   "codemirror_mode": {
    "name": "ipython",
    "version": 3
   },
   "file_extension": ".py",
   "mimetype": "text/x-python",
   "name": "python",
   "nbconvert_exporter": "python",
   "pygments_lexer": "ipython3",
   "version": "3.6.9"
  },
  "nteract": {
   "version": "nteract-front-end@1.0.0"
  }
 },
 "nbformat": 4,
 "nbformat_minor": 2
}
